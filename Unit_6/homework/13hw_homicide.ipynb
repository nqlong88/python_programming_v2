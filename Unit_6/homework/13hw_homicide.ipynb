{
 "cells": [
  {
   "cell_type": "code",
   "execution_count": 1,
   "metadata": {},
   "outputs": [],
   "source": [
    "import pandas as pd\n",
    "import matplotlib.pyplot as plt\n",
    "%matplotlib inline"
   ]
  },
  {
   "cell_type": "code",
   "execution_count": 2,
   "metadata": {},
   "outputs": [],
   "source": [
    "#read in the file 'Homicide.csv' and store it in a variable called homicide\n",
    "\n",
    "homicide = pd.read_csv(r'C:\\Users\\longn\\Python_programming\\Unit_6\\homework\\Homicide.csv')"
   ]
  },
  {
   "cell_type": "code",
   "execution_count": 3,
   "metadata": {},
   "outputs": [
    {
     "data": {
      "text/plain": [
       "(1015, 13)"
      ]
     },
     "execution_count": 3,
     "metadata": {},
     "output_type": "execute_result"
    }
   ],
   "source": [
    "homicide.shape"
   ]
  },
  {
   "cell_type": "code",
   "execution_count": 4,
   "metadata": {},
   "outputs": [
    {
     "data": {
      "text/html": [
       "<div>\n",
       "<style scoped>\n",
       "    .dataframe tbody tr th:only-of-type {\n",
       "        vertical-align: middle;\n",
       "    }\n",
       "\n",
       "    .dataframe tbody tr th {\n",
       "        vertical-align: top;\n",
       "    }\n",
       "\n",
       "    .dataframe thead th {\n",
       "        text-align: right;\n",
       "    }\n",
       "</style>\n",
       "<table border=\"1\" class=\"dataframe\">\n",
       "  <thead>\n",
       "    <tr style=\"text-align: right;\">\n",
       "      <th></th>\n",
       "      <th>X</th>\n",
       "      <th>Y</th>\n",
       "      <th>Index_</th>\n",
       "      <th>Event_Unique_ID</th>\n",
       "      <th>Occurrence_year</th>\n",
       "      <th>Division</th>\n",
       "      <th>Homicide_Type</th>\n",
       "      <th>Occurrence_Date</th>\n",
       "      <th>Hood_ID</th>\n",
       "      <th>Neighbourhood</th>\n",
       "      <th>Lat</th>\n",
       "      <th>Long</th>\n",
       "      <th>ObjectId</th>\n",
       "    </tr>\n",
       "  </thead>\n",
       "  <tbody>\n",
       "    <tr>\n",
       "      <th>0</th>\n",
       "      <td>-79.392853</td>\n",
       "      <td>43.685028</td>\n",
       "      <td>1</td>\n",
       "      <td>111878</td>\n",
       "      <td>2004</td>\n",
       "      <td>D53</td>\n",
       "      <td>Other</td>\n",
       "      <td>2004-01-03T05:00:00.000Z</td>\n",
       "      <td>98</td>\n",
       "      <td>Rosedale-Moore Park (98)</td>\n",
       "      <td>43.685028</td>\n",
       "      <td>-79.392853</td>\n",
       "      <td>1</td>\n",
       "    </tr>\n",
       "    <tr>\n",
       "      <th>1</th>\n",
       "      <td>-79.234962</td>\n",
       "      <td>43.781536</td>\n",
       "      <td>2</td>\n",
       "      <td>125755</td>\n",
       "      <td>2004</td>\n",
       "      <td>D42</td>\n",
       "      <td>Shooting</td>\n",
       "      <td>2004-01-08T05:00:00.000Z</td>\n",
       "      <td>137</td>\n",
       "      <td>Woburn (137)</td>\n",
       "      <td>43.781536</td>\n",
       "      <td>-79.234962</td>\n",
       "      <td>2</td>\n",
       "    </tr>\n",
       "    <tr>\n",
       "      <th>2</th>\n",
       "      <td>-79.206894</td>\n",
       "      <td>43.810860</td>\n",
       "      <td>3</td>\n",
       "      <td>136086</td>\n",
       "      <td>2004</td>\n",
       "      <td>D42</td>\n",
       "      <td>Shooting</td>\n",
       "      <td>2004-01-08T05:00:00.000Z</td>\n",
       "      <td>132</td>\n",
       "      <td>Malvern (132)</td>\n",
       "      <td>43.810860</td>\n",
       "      <td>-79.206894</td>\n",
       "      <td>3</td>\n",
       "    </tr>\n",
       "    <tr>\n",
       "      <th>3</th>\n",
       "      <td>-79.434403</td>\n",
       "      <td>43.670475</td>\n",
       "      <td>4</td>\n",
       "      <td>148623</td>\n",
       "      <td>2004</td>\n",
       "      <td>D13</td>\n",
       "      <td>Shooting</td>\n",
       "      <td>2004-01-25T05:00:00.000Z</td>\n",
       "      <td>93</td>\n",
       "      <td>Dovercourt-Wallace Emerson-Junction (93)</td>\n",
       "      <td>43.670475</td>\n",
       "      <td>-79.434403</td>\n",
       "      <td>4</td>\n",
       "    </tr>\n",
       "    <tr>\n",
       "      <th>4</th>\n",
       "      <td>-79.203865</td>\n",
       "      <td>43.823543</td>\n",
       "      <td>5</td>\n",
       "      <td>148619</td>\n",
       "      <td>2004</td>\n",
       "      <td>D42</td>\n",
       "      <td>Shooting</td>\n",
       "      <td>2004-01-25T05:00:00.000Z</td>\n",
       "      <td>131</td>\n",
       "      <td>Rouge (131)</td>\n",
       "      <td>43.823543</td>\n",
       "      <td>-79.203865</td>\n",
       "      <td>5</td>\n",
       "    </tr>\n",
       "  </tbody>\n",
       "</table>\n",
       "</div>"
      ],
      "text/plain": [
       "           X          Y  Index_ Event_Unique_ID  Occurrence_year Division  \\\n",
       "0 -79.392853  43.685028       1          111878             2004      D53   \n",
       "1 -79.234962  43.781536       2          125755             2004      D42   \n",
       "2 -79.206894  43.810860       3          136086             2004      D42   \n",
       "3 -79.434403  43.670475       4          148623             2004      D13   \n",
       "4 -79.203865  43.823543       5          148619             2004      D42   \n",
       "\n",
       "  Homicide_Type           Occurrence_Date  Hood_ID  \\\n",
       "0         Other  2004-01-03T05:00:00.000Z       98   \n",
       "1      Shooting  2004-01-08T05:00:00.000Z      137   \n",
       "2      Shooting  2004-01-08T05:00:00.000Z      132   \n",
       "3      Shooting  2004-01-25T05:00:00.000Z       93   \n",
       "4      Shooting  2004-01-25T05:00:00.000Z      131   \n",
       "\n",
       "                              Neighbourhood        Lat       Long  ObjectId  \n",
       "0                  Rosedale-Moore Park (98)  43.685028 -79.392853         1  \n",
       "1                              Woburn (137)  43.781536 -79.234962         2  \n",
       "2                             Malvern (132)  43.810860 -79.206894         3  \n",
       "3  Dovercourt-Wallace Emerson-Junction (93)  43.670475 -79.434403         4  \n",
       "4                               Rouge (131)  43.823543 -79.203865         5  "
      ]
     },
     "execution_count": 4,
     "metadata": {},
     "output_type": "execute_result"
    }
   ],
   "source": [
    "homicide.head()"
   ]
  },
  {
   "cell_type": "code",
   "execution_count": 5,
   "metadata": {},
   "outputs": [
    {
     "data": {
      "text/plain": [
       "RangeIndex(start=0, stop=1015, step=1)"
      ]
     },
     "execution_count": 5,
     "metadata": {},
     "output_type": "execute_result"
    }
   ],
   "source": [
    "#how many rows are in the dataset\n",
    "homicide.index"
   ]
  },
  {
   "cell_type": "code",
   "execution_count": 6,
   "metadata": {},
   "outputs": [
    {
     "data": {
      "text/plain": [
       "Index(['X', 'Y', 'Index_', 'Event_Unique_ID', 'Occurrence_year', 'Division',\n",
       "       'Homicide_Type', 'Occurrence_Date', 'Hood_ID', 'Neighbourhood', 'Lat',\n",
       "       'Long', 'ObjectId'],\n",
       "      dtype='object')"
      ]
     },
     "execution_count": 6,
     "metadata": {},
     "output_type": "execute_result"
    }
   ],
   "source": [
    "#list the names of all the columns in the dataset\n",
    "homicide.columns"
   ]
  },
  {
   "cell_type": "code",
   "execution_count": 7,
   "metadata": {},
   "outputs": [],
   "source": [
    "#replace the default index with the values of the 'Index_' column\n",
    "\n",
    "homicide = homicide.set_index('Index_')"
   ]
  },
  {
   "cell_type": "code",
   "execution_count": 8,
   "metadata": {},
   "outputs": [
    {
     "data": {
      "text/html": [
       "<div>\n",
       "<style scoped>\n",
       "    .dataframe tbody tr th:only-of-type {\n",
       "        vertical-align: middle;\n",
       "    }\n",
       "\n",
       "    .dataframe tbody tr th {\n",
       "        vertical-align: top;\n",
       "    }\n",
       "\n",
       "    .dataframe thead th {\n",
       "        text-align: right;\n",
       "    }\n",
       "</style>\n",
       "<table border=\"1\" class=\"dataframe\">\n",
       "  <thead>\n",
       "    <tr style=\"text-align: right;\">\n",
       "      <th></th>\n",
       "      <th>X</th>\n",
       "      <th>Y</th>\n",
       "      <th>Event_Unique_ID</th>\n",
       "      <th>Occurrence_year</th>\n",
       "      <th>Division</th>\n",
       "      <th>Homicide_Type</th>\n",
       "      <th>Occurrence_Date</th>\n",
       "      <th>Hood_ID</th>\n",
       "      <th>Neighbourhood</th>\n",
       "      <th>Lat</th>\n",
       "      <th>Long</th>\n",
       "      <th>ObjectId</th>\n",
       "    </tr>\n",
       "    <tr>\n",
       "      <th>Index_</th>\n",
       "      <th></th>\n",
       "      <th></th>\n",
       "      <th></th>\n",
       "      <th></th>\n",
       "      <th></th>\n",
       "      <th></th>\n",
       "      <th></th>\n",
       "      <th></th>\n",
       "      <th></th>\n",
       "      <th></th>\n",
       "      <th></th>\n",
       "      <th></th>\n",
       "    </tr>\n",
       "  </thead>\n",
       "  <tbody>\n",
       "    <tr>\n",
       "      <th>1</th>\n",
       "      <td>-79.392853</td>\n",
       "      <td>43.685028</td>\n",
       "      <td>111878</td>\n",
       "      <td>2004</td>\n",
       "      <td>D53</td>\n",
       "      <td>Other</td>\n",
       "      <td>2004-01-03T05:00:00.000Z</td>\n",
       "      <td>98</td>\n",
       "      <td>Rosedale-Moore Park (98)</td>\n",
       "      <td>43.685028</td>\n",
       "      <td>-79.392853</td>\n",
       "      <td>1</td>\n",
       "    </tr>\n",
       "    <tr>\n",
       "      <th>2</th>\n",
       "      <td>-79.234962</td>\n",
       "      <td>43.781536</td>\n",
       "      <td>125755</td>\n",
       "      <td>2004</td>\n",
       "      <td>D42</td>\n",
       "      <td>Shooting</td>\n",
       "      <td>2004-01-08T05:00:00.000Z</td>\n",
       "      <td>137</td>\n",
       "      <td>Woburn (137)</td>\n",
       "      <td>43.781536</td>\n",
       "      <td>-79.234962</td>\n",
       "      <td>2</td>\n",
       "    </tr>\n",
       "    <tr>\n",
       "      <th>3</th>\n",
       "      <td>-79.206894</td>\n",
       "      <td>43.810860</td>\n",
       "      <td>136086</td>\n",
       "      <td>2004</td>\n",
       "      <td>D42</td>\n",
       "      <td>Shooting</td>\n",
       "      <td>2004-01-08T05:00:00.000Z</td>\n",
       "      <td>132</td>\n",
       "      <td>Malvern (132)</td>\n",
       "      <td>43.810860</td>\n",
       "      <td>-79.206894</td>\n",
       "      <td>3</td>\n",
       "    </tr>\n",
       "    <tr>\n",
       "      <th>4</th>\n",
       "      <td>-79.434403</td>\n",
       "      <td>43.670475</td>\n",
       "      <td>148623</td>\n",
       "      <td>2004</td>\n",
       "      <td>D13</td>\n",
       "      <td>Shooting</td>\n",
       "      <td>2004-01-25T05:00:00.000Z</td>\n",
       "      <td>93</td>\n",
       "      <td>Dovercourt-Wallace Emerson-Junction (93)</td>\n",
       "      <td>43.670475</td>\n",
       "      <td>-79.434403</td>\n",
       "      <td>4</td>\n",
       "    </tr>\n",
       "    <tr>\n",
       "      <th>5</th>\n",
       "      <td>-79.203865</td>\n",
       "      <td>43.823543</td>\n",
       "      <td>148619</td>\n",
       "      <td>2004</td>\n",
       "      <td>D42</td>\n",
       "      <td>Shooting</td>\n",
       "      <td>2004-01-25T05:00:00.000Z</td>\n",
       "      <td>131</td>\n",
       "      <td>Rouge (131)</td>\n",
       "      <td>43.823543</td>\n",
       "      <td>-79.203865</td>\n",
       "      <td>5</td>\n",
       "    </tr>\n",
       "    <tr>\n",
       "      <th>...</th>\n",
       "      <td>...</td>\n",
       "      <td>...</td>\n",
       "      <td>...</td>\n",
       "      <td>...</td>\n",
       "      <td>...</td>\n",
       "      <td>...</td>\n",
       "      <td>...</td>\n",
       "      <td>...</td>\n",
       "      <td>...</td>\n",
       "      <td>...</td>\n",
       "      <td>...</td>\n",
       "      <td>...</td>\n",
       "    </tr>\n",
       "    <tr>\n",
       "      <th>1235</th>\n",
       "      <td>-79.374847</td>\n",
       "      <td>43.660656</td>\n",
       "      <td>GO-20182242344</td>\n",
       "      <td>2018</td>\n",
       "      <td>D51</td>\n",
       "      <td>Stabbing</td>\n",
       "      <td>2018-12-06T05:00:00.000Z</td>\n",
       "      <td>73</td>\n",
       "      <td>Moss Park (73)</td>\n",
       "      <td>43.660656</td>\n",
       "      <td>-79.374847</td>\n",
       "      <td>1011</td>\n",
       "    </tr>\n",
       "    <tr>\n",
       "      <th>1236</th>\n",
       "      <td>-79.548676</td>\n",
       "      <td>43.701328</td>\n",
       "      <td>GO-20182280579</td>\n",
       "      <td>2018</td>\n",
       "      <td>D23</td>\n",
       "      <td>Shooting</td>\n",
       "      <td>2018-12-12T05:00:00.000Z</td>\n",
       "      <td>6</td>\n",
       "      <td>Kingsview Village-The Westway (6)</td>\n",
       "      <td>43.701328</td>\n",
       "      <td>-79.548676</td>\n",
       "      <td>1012</td>\n",
       "    </tr>\n",
       "    <tr>\n",
       "      <th>1237</th>\n",
       "      <td>-79.517776</td>\n",
       "      <td>43.759018</td>\n",
       "      <td>GO-20182315055</td>\n",
       "      <td>2018</td>\n",
       "      <td>D31</td>\n",
       "      <td>Shooting</td>\n",
       "      <td>2018-12-18T05:00:00.000Z</td>\n",
       "      <td>24</td>\n",
       "      <td>Black Creek (24)</td>\n",
       "      <td>43.759018</td>\n",
       "      <td>-79.517776</td>\n",
       "      <td>1013</td>\n",
       "    </tr>\n",
       "    <tr>\n",
       "      <th>1238</th>\n",
       "      <td>-79.397644</td>\n",
       "      <td>43.644955</td>\n",
       "      <td>GO-20182320758</td>\n",
       "      <td>2018</td>\n",
       "      <td>D14</td>\n",
       "      <td>Shooting</td>\n",
       "      <td>2018-12-19T05:00:00.000Z</td>\n",
       "      <td>77</td>\n",
       "      <td>Waterfront Communities-The Island (77)</td>\n",
       "      <td>43.644955</td>\n",
       "      <td>-79.397644</td>\n",
       "      <td>1014</td>\n",
       "    </tr>\n",
       "    <tr>\n",
       "      <th>1240</th>\n",
       "      <td>-79.585831</td>\n",
       "      <td>43.750977</td>\n",
       "      <td>GO-20182339244</td>\n",
       "      <td>2018</td>\n",
       "      <td>D23</td>\n",
       "      <td>Shooting</td>\n",
       "      <td>2018-12-21T05:00:00.000Z</td>\n",
       "      <td>2</td>\n",
       "      <td>Mount Olive-Silverstone-Jamestown (2)</td>\n",
       "      <td>43.750977</td>\n",
       "      <td>-79.585831</td>\n",
       "      <td>1015</td>\n",
       "    </tr>\n",
       "  </tbody>\n",
       "</table>\n",
       "<p>1015 rows × 12 columns</p>\n",
       "</div>"
      ],
      "text/plain": [
       "                X          Y Event_Unique_ID  Occurrence_year Division  \\\n",
       "Index_                                                                   \n",
       "1      -79.392853  43.685028          111878             2004      D53   \n",
       "2      -79.234962  43.781536          125755             2004      D42   \n",
       "3      -79.206894  43.810860          136086             2004      D42   \n",
       "4      -79.434403  43.670475          148623             2004      D13   \n",
       "5      -79.203865  43.823543          148619             2004      D42   \n",
       "...           ...        ...             ...              ...      ...   \n",
       "1235   -79.374847  43.660656  GO-20182242344             2018      D51   \n",
       "1236   -79.548676  43.701328  GO-20182280579             2018      D23   \n",
       "1237   -79.517776  43.759018  GO-20182315055             2018      D31   \n",
       "1238   -79.397644  43.644955  GO-20182320758             2018      D14   \n",
       "1240   -79.585831  43.750977  GO-20182339244             2018      D23   \n",
       "\n",
       "       Homicide_Type           Occurrence_Date  Hood_ID  \\\n",
       "Index_                                                    \n",
       "1              Other  2004-01-03T05:00:00.000Z       98   \n",
       "2           Shooting  2004-01-08T05:00:00.000Z      137   \n",
       "3           Shooting  2004-01-08T05:00:00.000Z      132   \n",
       "4           Shooting  2004-01-25T05:00:00.000Z       93   \n",
       "5           Shooting  2004-01-25T05:00:00.000Z      131   \n",
       "...              ...                       ...      ...   \n",
       "1235        Stabbing  2018-12-06T05:00:00.000Z       73   \n",
       "1236        Shooting  2018-12-12T05:00:00.000Z        6   \n",
       "1237        Shooting  2018-12-18T05:00:00.000Z       24   \n",
       "1238        Shooting  2018-12-19T05:00:00.000Z       77   \n",
       "1240        Shooting  2018-12-21T05:00:00.000Z        2   \n",
       "\n",
       "                                   Neighbourhood        Lat       Long  \\\n",
       "Index_                                                                   \n",
       "1                       Rosedale-Moore Park (98)  43.685028 -79.392853   \n",
       "2                                   Woburn (137)  43.781536 -79.234962   \n",
       "3                                  Malvern (132)  43.810860 -79.206894   \n",
       "4       Dovercourt-Wallace Emerson-Junction (93)  43.670475 -79.434403   \n",
       "5                                    Rouge (131)  43.823543 -79.203865   \n",
       "...                                          ...        ...        ...   \n",
       "1235                              Moss Park (73)  43.660656 -79.374847   \n",
       "1236           Kingsview Village-The Westway (6)  43.701328 -79.548676   \n",
       "1237                            Black Creek (24)  43.759018 -79.517776   \n",
       "1238      Waterfront Communities-The Island (77)  43.644955 -79.397644   \n",
       "1240       Mount Olive-Silverstone-Jamestown (2)  43.750977 -79.585831   \n",
       "\n",
       "        ObjectId  \n",
       "Index_            \n",
       "1              1  \n",
       "2              2  \n",
       "3              3  \n",
       "4              4  \n",
       "5              5  \n",
       "...          ...  \n",
       "1235        1011  \n",
       "1236        1012  \n",
       "1237        1013  \n",
       "1238        1014  \n",
       "1240        1015  \n",
       "\n",
       "[1015 rows x 12 columns]"
      ]
     },
     "execution_count": 8,
     "metadata": {},
     "output_type": "execute_result"
    }
   ],
   "source": [
    "homicide"
   ]
  },
  {
   "cell_type": "code",
   "execution_count": 9,
   "metadata": {},
   "outputs": [],
   "source": [
    "#list the types of homicides in the order of their frequency\n",
    "homicide_type = homicide.groupby('Homicide_Type')"
   ]
  },
  {
   "cell_type": "code",
   "execution_count": 10,
   "metadata": {},
   "outputs": [
    {
     "data": {
      "text/plain": [
       "Homicide_Type\n",
       "Other       263\n",
       "Shooting    526\n",
       "Stabbing    226\n",
       "Name: Event_Unique_ID, dtype: int64"
      ]
     },
     "execution_count": 10,
     "metadata": {},
     "output_type": "execute_result"
    }
   ],
   "source": [
    "homicide_type.count()['Event_Unique_ID']"
   ]
  },
  {
   "cell_type": "code",
   "execution_count": 11,
   "metadata": {},
   "outputs": [
    {
     "data": {
      "text/plain": [
       "Shooting    526\n",
       "Other       263\n",
       "Stabbing    226\n",
       "Name: Homicide_Type, dtype: int64"
      ]
     },
     "execution_count": 11,
     "metadata": {},
     "output_type": "execute_result"
    }
   ],
   "source": [
    "homicide['Homicide_Type'].value_counts()"
   ]
  },
  {
   "cell_type": "code",
   "execution_count": 12,
   "metadata": {},
   "outputs": [],
   "source": [
    "#plot the homicide types and their frequencies on a bar chart\n",
    "\n",
    "frequencies = pd.DataFrame(homicide['Homicide_Type'].value_counts())"
   ]
  },
  {
   "cell_type": "code",
   "execution_count": 13,
   "metadata": {},
   "outputs": [
    {
     "data": {
      "text/html": [
       "<div>\n",
       "<style scoped>\n",
       "    .dataframe tbody tr th:only-of-type {\n",
       "        vertical-align: middle;\n",
       "    }\n",
       "\n",
       "    .dataframe tbody tr th {\n",
       "        vertical-align: top;\n",
       "    }\n",
       "\n",
       "    .dataframe thead th {\n",
       "        text-align: right;\n",
       "    }\n",
       "</style>\n",
       "<table border=\"1\" class=\"dataframe\">\n",
       "  <thead>\n",
       "    <tr style=\"text-align: right;\">\n",
       "      <th></th>\n",
       "      <th>Homicide_Type</th>\n",
       "    </tr>\n",
       "  </thead>\n",
       "  <tbody>\n",
       "    <tr>\n",
       "      <th>Shooting</th>\n",
       "      <td>526</td>\n",
       "    </tr>\n",
       "    <tr>\n",
       "      <th>Other</th>\n",
       "      <td>263</td>\n",
       "    </tr>\n",
       "    <tr>\n",
       "      <th>Stabbing</th>\n",
       "      <td>226</td>\n",
       "    </tr>\n",
       "  </tbody>\n",
       "</table>\n",
       "</div>"
      ],
      "text/plain": [
       "          Homicide_Type\n",
       "Shooting            526\n",
       "Other               263\n",
       "Stabbing            226"
      ]
     },
     "execution_count": 13,
     "metadata": {},
     "output_type": "execute_result"
    }
   ],
   "source": [
    "frequencies"
   ]
  },
  {
   "cell_type": "code",
   "execution_count": 14,
   "metadata": {},
   "outputs": [
    {
     "data": {
      "image/png": "[encoded data removed]",
      "text/plain": [
       "<Figure size 432x288 with 1 Axes>"
      ]
     },
     "metadata": {
      "needs_background": "light"
     },
     "output_type": "display_data"
    }
   ],
   "source": [
    "graph = frequencies.plot.bar()"
   ]
  },
  {
   "cell_type": "code",
   "execution_count": 15,
   "metadata": {},
   "outputs": [],
   "source": [
    "#find the year with the highest number of shootings\n",
    "\n",
    "group_yr = homicide[homicide['Homicide_Type'] == 'Shooting'].groupby('Occurrence_year')"
   ]
  },
  {
   "cell_type": "code",
   "execution_count": 16,
   "metadata": {},
   "outputs": [
    {
     "data": {
      "text/plain": [
       "Occurrence_year\n",
       "2005    53\n",
       "2018    51\n",
       "2007    44\n",
       "2016    41\n",
       "2017    39\n",
       "2009    37\n",
       "2008    37\n",
       "2012    34\n",
       "2010    32\n",
       "2006    29\n",
       "2011    28\n",
       "2014    27\n",
       "2015    26\n",
       "2004    26\n",
       "2013    22\n",
       "Name: Event_Unique_ID, dtype: int64"
      ]
     },
     "execution_count": 16,
     "metadata": {},
     "output_type": "execute_result"
    }
   ],
   "source": [
    "group_yr.count()['Event_Unique_ID'].sort_values(ascending = False)"
   ]
  },
  {
   "cell_type": "code",
   "execution_count": 17,
   "metadata": {},
   "outputs": [],
   "source": [
    "#for 2018, list the months with the highest and lowest homicides\n",
    "#Needs to create a month colum"
   ]
  },
  {
   "cell_type": "code",
   "execution_count": 18,
   "metadata": {},
   "outputs": [],
   "source": [
    "#month column function\n",
    "def month(input):\n",
    "    return input.split('-')[1] "
   ]
  },
  {
   "cell_type": "code",
   "execution_count": 19,
   "metadata": {},
   "outputs": [],
   "source": [
    "#apply function to create new column:\n",
    "homicide['Month'] = homicide['Occurrence_Date'].apply(month)"
   ]
  },
  {
   "cell_type": "code",
   "execution_count": 20,
   "metadata": {},
   "outputs": [],
   "source": [
    "year18_data = homicide[homicide['Occurrence_year']==2018].groupby('Month')"
   ]
  },
  {
   "cell_type": "code",
   "execution_count": 21,
   "metadata": {},
   "outputs": [
    {
     "data": {
      "text/plain": [
       "Month\n",
       "06    13\n",
       "04    13\n",
       "08    12\n",
       "09    10\n",
       "05    10\n",
       "07     9\n",
       "10     7\n",
       "03     6\n",
       "12     5\n",
       "01     5\n",
       "11     3\n",
       "02     3\n",
       "Name: Event_Unique_ID, dtype: int64"
      ]
     },
     "execution_count": 21,
     "metadata": {},
     "output_type": "execute_result"
    }
   ],
   "source": [
    "year18_data.count()['Event_Unique_ID'].sort_values(ascending = False)"
   ]
  },
  {
   "cell_type": "code",
   "execution_count": 22,
   "metadata": {},
   "outputs": [],
   "source": [
    "#list five safest neighborhoods"
   ]
  },
  {
   "cell_type": "code",
   "execution_count": 23,
   "metadata": {},
   "outputs": [
    {
     "data": {
      "text/plain": [
       "Mount Olive-Silverstone-Jamestown (2)    29\n",
       "Glenfield-Jane Heights (25)              27\n",
       "Moss Park (73)                           26\n",
       "Malvern (132)                            25\n",
       "Rouge (131)                              24\n",
       "                                         ..\n",
       "Woodbine-Lumsden (60)                     2\n",
       "Bayview Woods-Steeles (49)                1\n",
       "Yonge-Eglinton (100)                      1\n",
       "Kingsway South (15)                       1\n",
       "Newtonbrook West (36)                     1\n",
       "Name: Neighbourhood, Length: 130, dtype: int64"
      ]
     },
     "execution_count": 23,
     "metadata": {},
     "output_type": "execute_result"
    }
   ],
   "source": [
    "homicide['Neighbourhood'].value_counts()"
   ]
  },
  {
   "cell_type": "code",
   "execution_count": null,
   "metadata": {},
   "outputs": [],
   "source": []
  },
  {
   "cell_type": "code",
   "execution_count": null,
   "metadata": {},
   "outputs": [],
   "source": []
  }
 ],
 "metadata": {
  "kernelspec": {
   "display_name": "Python 3",
   "language": "python",
   "name": "python3"
  },
  "language_info": {
   "codemirror_mode": {
    "name": "ipython",
    "version": 3
   },
   "file_extension": ".py",
   "mimetype": "text/x-python",
   "name": "python",
   "nbconvert_exporter": "python",
   "pygments_lexer": "ipython3",
   "version": "3.7.6"
  }
 },
 "nbformat": 4,
 "nbformat_minor": 4
}
