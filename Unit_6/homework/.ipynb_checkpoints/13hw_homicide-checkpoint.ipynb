{
 "cells": [
  {
   "cell_type": "code",
   "execution_count": 1,
   "metadata": {},
   "outputs": [],
   "source": [
    "import pandas as pd\n",
    "import matplotlib.pyplot as plt\n"
   ]
  },
  {
   "cell_type": "code",
   "execution_count": 2,
   "metadata": {},
   "outputs": [],
   "source": [
    "#read in the file 'Homicide.csv' and store it in a variable called homicide\n",
    "\n",
    "homicide = pd.read_csv(r'C:\\Users\\longn\\Python_programming\\Unit_6\\homework\\Homicide.csv')"
   ]
  },
  {
   "cell_type": "code",
   "execution_count": 3,
   "metadata": {},
   "outputs": [
    {
     "data": {
      "text/plain": [
       "(1015, 13)"
      ]
     },
     "execution_count": 3,
     "metadata": {},
     "output_type": "execute_result"
    }
   ],
   "source": [
    "homicide.shape"
   ]
  },
  {
   "cell_type": "code",
   "execution_count": 4,
   "metadata": {},
   "outputs": [
    {
     "data": {
      "text/html": [
       "<div>\n",
       "<style scoped>\n",
       "    .dataframe tbody tr th:only-of-type {\n",
       "        vertical-align: middle;\n",
       "    }\n",
       "\n",
       "    .dataframe tbody tr th {\n",
       "        vertical-align: top;\n",
       "    }\n",
       "\n",
       "    .dataframe thead th {\n",
       "        text-align: right;\n",
       "    }\n",
       "</style>\n",
       "<table border=\"1\" class=\"dataframe\">\n",
       "  <thead>\n",
       "    <tr style=\"text-align: right;\">\n",
       "      <th></th>\n",
       "      <th>X</th>\n",
       "      <th>Y</th>\n",
       "      <th>Index_</th>\n",
       "      <th>Event_Unique_ID</th>\n",
       "      <th>Occurrence_year</th>\n",
       "      <th>Division</th>\n",
       "      <th>Homicide_Type</th>\n",
       "      <th>Occurrence_Date</th>\n",
       "      <th>Hood_ID</th>\n",
       "      <th>Neighbourhood</th>\n",
       "      <th>Lat</th>\n",
       "      <th>Long</th>\n",
       "      <th>ObjectId</th>\n",
       "    </tr>\n",
       "  </thead>\n",
       "  <tbody>\n",
       "    <tr>\n",
       "      <th>0</th>\n",
       "      <td>-79.392853</td>\n",
       "      <td>43.685028</td>\n",
       "      <td>1</td>\n",
       "      <td>111878</td>\n",
       "      <td>2004</td>\n",
       "      <td>D53</td>\n",
       "      <td>Other</td>\n",
       "      <td>2004-01-03T05:00:00.000Z</td>\n",
       "      <td>98</td>\n",
       "      <td>Rosedale-Moore Park (98)</td>\n",
       "      <td>43.685028</td>\n",
       "      <td>-79.392853</td>\n",
       "      <td>1</td>\n",
       "    </tr>\n",
       "    <tr>\n",
       "      <th>1</th>\n",
       "      <td>-79.234962</td>\n",
       "      <td>43.781536</td>\n",
       "      <td>2</td>\n",
       "      <td>125755</td>\n",
       "      <td>2004</td>\n",
       "      <td>D42</td>\n",
       "      <td>Shooting</td>\n",
       "      <td>2004-01-08T05:00:00.000Z</td>\n",
       "      <td>137</td>\n",
       "      <td>Woburn (137)</td>\n",
       "      <td>43.781536</td>\n",
       "      <td>-79.234962</td>\n",
       "      <td>2</td>\n",
       "    </tr>\n",
       "    <tr>\n",
       "      <th>2</th>\n",
       "      <td>-79.206894</td>\n",
       "      <td>43.810860</td>\n",
       "      <td>3</td>\n",
       "      <td>136086</td>\n",
       "      <td>2004</td>\n",
       "      <td>D42</td>\n",
       "      <td>Shooting</td>\n",
       "      <td>2004-01-08T05:00:00.000Z</td>\n",
       "      <td>132</td>\n",
       "      <td>Malvern (132)</td>\n",
       "      <td>43.810860</td>\n",
       "      <td>-79.206894</td>\n",
       "      <td>3</td>\n",
       "    </tr>\n",
       "    <tr>\n",
       "      <th>3</th>\n",
       "      <td>-79.434403</td>\n",
       "      <td>43.670475</td>\n",
       "      <td>4</td>\n",
       "      <td>148623</td>\n",
       "      <td>2004</td>\n",
       "      <td>D13</td>\n",
       "      <td>Shooting</td>\n",
       "      <td>2004-01-25T05:00:00.000Z</td>\n",
       "      <td>93</td>\n",
       "      <td>Dovercourt-Wallace Emerson-Junction (93)</td>\n",
       "      <td>43.670475</td>\n",
       "      <td>-79.434403</td>\n",
       "      <td>4</td>\n",
       "    </tr>\n",
       "    <tr>\n",
       "      <th>4</th>\n",
       "      <td>-79.203865</td>\n",
       "      <td>43.823543</td>\n",
       "      <td>5</td>\n",
       "      <td>148619</td>\n",
       "      <td>2004</td>\n",
       "      <td>D42</td>\n",
       "      <td>Shooting</td>\n",
       "      <td>2004-01-25T05:00:00.000Z</td>\n",
       "      <td>131</td>\n",
       "      <td>Rouge (131)</td>\n",
       "      <td>43.823543</td>\n",
       "      <td>-79.203865</td>\n",
       "      <td>5</td>\n",
       "    </tr>\n",
       "  </tbody>\n",
       "</table>\n",
       "</div>"
      ],
      "text/plain": [
       "           X          Y  Index_ Event_Unique_ID  Occurrence_year Division  \\\n",
       "0 -79.392853  43.685028       1          111878             2004      D53   \n",
       "1 -79.234962  43.781536       2          125755             2004      D42   \n",
       "2 -79.206894  43.810860       3          136086             2004      D42   \n",
       "3 -79.434403  43.670475       4          148623             2004      D13   \n",
       "4 -79.203865  43.823543       5          148619             2004      D42   \n",
       "\n",
       "  Homicide_Type           Occurrence_Date  Hood_ID  \\\n",
       "0         Other  2004-01-03T05:00:00.000Z       98   \n",
       "1      Shooting  2004-01-08T05:00:00.000Z      137   \n",
       "2      Shooting  2004-01-08T05:00:00.000Z      132   \n",
       "3      Shooting  2004-01-25T05:00:00.000Z       93   \n",
       "4      Shooting  2004-01-25T05:00:00.000Z      131   \n",
       "\n",
       "                              Neighbourhood        Lat       Long  ObjectId  \n",
       "0                  Rosedale-Moore Park (98)  43.685028 -79.392853         1  \n",
       "1                              Woburn (137)  43.781536 -79.234962         2  \n",
       "2                             Malvern (132)  43.810860 -79.206894         3  \n",
       "3  Dovercourt-Wallace Emerson-Junction (93)  43.670475 -79.434403         4  \n",
       "4                               Rouge (131)  43.823543 -79.203865         5  "
      ]
     },
     "execution_count": 4,
     "metadata": {},
     "output_type": "execute_result"
    }
   ],
   "source": [
    "homicide.head()"
   ]
  },
  {
   "cell_type": "code",
   "execution_count": 5,
   "metadata": {},
   "outputs": [
    {
     "data": {
      "text/plain": [
       "RangeIndex(start=0, stop=1015, step=1)"
      ]
     },
     "execution_count": 5,
     "metadata": {},
     "output_type": "execute_result"
    }
   ],
   "source": [
    "#how many rows are in the dataset\n",
    "homicide.index"
   ]
  },
  {
   "cell_type": "code",
   "execution_count": 6,
   "metadata": {},
   "outputs": [
    {
     "data": {
      "text/plain": [
       "Index(['X', 'Y', 'Index_', 'Event_Unique_ID', 'Occurrence_year', 'Division',\n",
       "       'Homicide_Type', 'Occurrence_Date', 'Hood_ID', 'Neighbourhood', 'Lat',\n",
       "       'Long', 'ObjectId'],\n",
       "      dtype='object')"
      ]
     },
     "execution_count": 6,
     "metadata": {},
     "output_type": "execute_result"
    }
   ],
   "source": [
    "#list the names of all the columns in the dataset\n",
    "homicide.columns"
   ]
  },
  {
   "cell_type": "code",
   "execution_count": 9,
   "metadata": {},
   "outputs": [],
   "source": [
    "#replace the default index with the values of the 'Index_' column\n",
    "\n",
    "homicide = homicide.set_index('Index_')"
   ]
  },
  {
   "cell_type": "code",
   "execution_count": 10,
   "metadata": {},
   "outputs": [
    {
     "data": {
      "text/html": [
       "<div>\n",
       "<style scoped>\n",
       "    .dataframe tbody tr th:only-of-type {\n",
       "        vertical-align: middle;\n",
       "    }\n",
       "\n",
       "    .dataframe tbody tr th {\n",
       "        vertical-align: top;\n",
       "    }\n",
       "\n",
       "    .dataframe thead th {\n",
       "        text-align: right;\n",
       "    }\n",
       "</style>\n",
       "<table border=\"1\" class=\"dataframe\">\n",
       "  <thead>\n",
       "    <tr style=\"text-align: right;\">\n",
       "      <th></th>\n",
       "      <th>X</th>\n",
       "      <th>Y</th>\n",
       "      <th>Event_Unique_ID</th>\n",
       "      <th>Occurrence_year</th>\n",
       "      <th>Division</th>\n",
       "      <th>Homicide_Type</th>\n",
       "      <th>Occurrence_Date</th>\n",
       "      <th>Hood_ID</th>\n",
       "      <th>Neighbourhood</th>\n",
       "      <th>Lat</th>\n",
       "      <th>Long</th>\n",
       "      <th>ObjectId</th>\n",
       "    </tr>\n",
       "    <tr>\n",
       "      <th>Index_</th>\n",
       "      <th></th>\n",
       "      <th></th>\n",
       "      <th></th>\n",
       "      <th></th>\n",
       "      <th></th>\n",
       "      <th></th>\n",
       "      <th></th>\n",
       "      <th></th>\n",
       "      <th></th>\n",
       "      <th></th>\n",
       "      <th></th>\n",
       "      <th></th>\n",
       "    </tr>\n",
       "  </thead>\n",
       "  <tbody>\n",
       "    <tr>\n",
       "      <th>1</th>\n",
       "      <td>-79.392853</td>\n",
       "      <td>43.685028</td>\n",
       "      <td>111878</td>\n",
       "      <td>2004</td>\n",
       "      <td>D53</td>\n",
       "      <td>Other</td>\n",
       "      <td>2004-01-03T05:00:00.000Z</td>\n",
       "      <td>98</td>\n",
       "      <td>Rosedale-Moore Park (98)</td>\n",
       "      <td>43.685028</td>\n",
       "      <td>-79.392853</td>\n",
       "      <td>1</td>\n",
       "    </tr>\n",
       "    <tr>\n",
       "      <th>2</th>\n",
       "      <td>-79.234962</td>\n",
       "      <td>43.781536</td>\n",
       "      <td>125755</td>\n",
       "      <td>2004</td>\n",
       "      <td>D42</td>\n",
       "      <td>Shooting</td>\n",
       "      <td>2004-01-08T05:00:00.000Z</td>\n",
       "      <td>137</td>\n",
       "      <td>Woburn (137)</td>\n",
       "      <td>43.781536</td>\n",
       "      <td>-79.234962</td>\n",
       "      <td>2</td>\n",
       "    </tr>\n",
       "    <tr>\n",
       "      <th>3</th>\n",
       "      <td>-79.206894</td>\n",
       "      <td>43.810860</td>\n",
       "      <td>136086</td>\n",
       "      <td>2004</td>\n",
       "      <td>D42</td>\n",
       "      <td>Shooting</td>\n",
       "      <td>2004-01-08T05:00:00.000Z</td>\n",
       "      <td>132</td>\n",
       "      <td>Malvern (132)</td>\n",
       "      <td>43.810860</td>\n",
       "      <td>-79.206894</td>\n",
       "      <td>3</td>\n",
       "    </tr>\n",
       "    <tr>\n",
       "      <th>4</th>\n",
       "      <td>-79.434403</td>\n",
       "      <td>43.670475</td>\n",
       "      <td>148623</td>\n",
       "      <td>2004</td>\n",
       "      <td>D13</td>\n",
       "      <td>Shooting</td>\n",
       "      <td>2004-01-25T05:00:00.000Z</td>\n",
       "      <td>93</td>\n",
       "      <td>Dovercourt-Wallace Emerson-Junction (93)</td>\n",
       "      <td>43.670475</td>\n",
       "      <td>-79.434403</td>\n",
       "      <td>4</td>\n",
       "    </tr>\n",
       "    <tr>\n",
       "      <th>5</th>\n",
       "      <td>-79.203865</td>\n",
       "      <td>43.823543</td>\n",
       "      <td>148619</td>\n",
       "      <td>2004</td>\n",
       "      <td>D42</td>\n",
       "      <td>Shooting</td>\n",
       "      <td>2004-01-25T05:00:00.000Z</td>\n",
       "      <td>131</td>\n",
       "      <td>Rouge (131)</td>\n",
       "      <td>43.823543</td>\n",
       "      <td>-79.203865</td>\n",
       "      <td>5</td>\n",
       "    </tr>\n",
       "    <tr>\n",
       "      <th>...</th>\n",
       "      <td>...</td>\n",
       "      <td>...</td>\n",
       "      <td>...</td>\n",
       "      <td>...</td>\n",
       "      <td>...</td>\n",
       "      <td>...</td>\n",
       "      <td>...</td>\n",
       "      <td>...</td>\n",
       "      <td>...</td>\n",
       "      <td>...</td>\n",
       "      <td>...</td>\n",
       "      <td>...</td>\n",
       "    </tr>\n",
       "    <tr>\n",
       "      <th>1235</th>\n",
       "      <td>-79.374847</td>\n",
       "      <td>43.660656</td>\n",
       "      <td>GO-20182242344</td>\n",
       "      <td>2018</td>\n",
       "      <td>D51</td>\n",
       "      <td>Stabbing</td>\n",
       "      <td>2018-12-06T05:00:00.000Z</td>\n",
       "      <td>73</td>\n",
       "      <td>Moss Park (73)</td>\n",
       "      <td>43.660656</td>\n",
       "      <td>-79.374847</td>\n",
       "      <td>1011</td>\n",
       "    </tr>\n",
       "    <tr>\n",
       "      <th>1236</th>\n",
       "      <td>-79.548676</td>\n",
       "      <td>43.701328</td>\n",
       "      <td>GO-20182280579</td>\n",
       "      <td>2018</td>\n",
       "      <td>D23</td>\n",
       "      <td>Shooting</td>\n",
       "      <td>2018-12-12T05:00:00.000Z</td>\n",
       "      <td>6</td>\n",
       "      <td>Kingsview Village-The Westway (6)</td>\n",
       "      <td>43.701328</td>\n",
       "      <td>-79.548676</td>\n",
       "      <td>1012</td>\n",
       "    </tr>\n",
       "    <tr>\n",
       "      <th>1237</th>\n",
       "      <td>-79.517776</td>\n",
       "      <td>43.759018</td>\n",
       "      <td>GO-20182315055</td>\n",
       "      <td>2018</td>\n",
       "      <td>D31</td>\n",
       "      <td>Shooting</td>\n",
       "      <td>2018-12-18T05:00:00.000Z</td>\n",
       "      <td>24</td>\n",
       "      <td>Black Creek (24)</td>\n",
       "      <td>43.759018</td>\n",
       "      <td>-79.517776</td>\n",
       "      <td>1013</td>\n",
       "    </tr>\n",
       "    <tr>\n",
       "      <th>1238</th>\n",
       "      <td>-79.397644</td>\n",
       "      <td>43.644955</td>\n",
       "      <td>GO-20182320758</td>\n",
       "      <td>2018</td>\n",
       "      <td>D14</td>\n",
       "      <td>Shooting</td>\n",
       "      <td>2018-12-19T05:00:00.000Z</td>\n",
       "      <td>77</td>\n",
       "      <td>Waterfront Communities-The Island (77)</td>\n",
       "      <td>43.644955</td>\n",
       "      <td>-79.397644</td>\n",
       "      <td>1014</td>\n",
       "    </tr>\n",
       "    <tr>\n",
       "      <th>1240</th>\n",
       "      <td>-79.585831</td>\n",
       "      <td>43.750977</td>\n",
       "      <td>GO-20182339244</td>\n",
       "      <td>2018</td>\n",
       "      <td>D23</td>\n",
       "      <td>Shooting</td>\n",
       "      <td>2018-12-21T05:00:00.000Z</td>\n",
       "      <td>2</td>\n",
       "      <td>Mount Olive-Silverstone-Jamestown (2)</td>\n",
       "      <td>43.750977</td>\n",
       "      <td>-79.585831</td>\n",
       "      <td>1015</td>\n",
       "    </tr>\n",
       "  </tbody>\n",
       "</table>\n",
       "<p>1015 rows × 12 columns</p>\n",
       "</div>"
      ],
      "text/plain": [
       "                X          Y Event_Unique_ID  Occurrence_year Division  \\\n",
       "Index_                                                                   \n",
       "1      -79.392853  43.685028          111878             2004      D53   \n",
       "2      -79.234962  43.781536          125755             2004      D42   \n",
       "3      -79.206894  43.810860          136086             2004      D42   \n",
       "4      -79.434403  43.670475          148623             2004      D13   \n",
       "5      -79.203865  43.823543          148619             2004      D42   \n",
       "...           ...        ...             ...              ...      ...   \n",
       "1235   -79.374847  43.660656  GO-20182242344             2018      D51   \n",
       "1236   -79.548676  43.701328  GO-20182280579             2018      D23   \n",
       "1237   -79.517776  43.759018  GO-20182315055             2018      D31   \n",
       "1238   -79.397644  43.644955  GO-20182320758             2018      D14   \n",
       "1240   -79.585831  43.750977  GO-20182339244             2018      D23   \n",
       "\n",
       "       Homicide_Type           Occurrence_Date  Hood_ID  \\\n",
       "Index_                                                    \n",
       "1              Other  2004-01-03T05:00:00.000Z       98   \n",
       "2           Shooting  2004-01-08T05:00:00.000Z      137   \n",
       "3           Shooting  2004-01-08T05:00:00.000Z      132   \n",
       "4           Shooting  2004-01-25T05:00:00.000Z       93   \n",
       "5           Shooting  2004-01-25T05:00:00.000Z      131   \n",
       "...              ...                       ...      ...   \n",
       "1235        Stabbing  2018-12-06T05:00:00.000Z       73   \n",
       "1236        Shooting  2018-12-12T05:00:00.000Z        6   \n",
       "1237        Shooting  2018-12-18T05:00:00.000Z       24   \n",
       "1238        Shooting  2018-12-19T05:00:00.000Z       77   \n",
       "1240        Shooting  2018-12-21T05:00:00.000Z        2   \n",
       "\n",
       "                                   Neighbourhood        Lat       Long  \\\n",
       "Index_                                                                   \n",
       "1                       Rosedale-Moore Park (98)  43.685028 -79.392853   \n",
       "2                                   Woburn (137)  43.781536 -79.234962   \n",
       "3                                  Malvern (132)  43.810860 -79.206894   \n",
       "4       Dovercourt-Wallace Emerson-Junction (93)  43.670475 -79.434403   \n",
       "5                                    Rouge (131)  43.823543 -79.203865   \n",
       "...                                          ...        ...        ...   \n",
       "1235                              Moss Park (73)  43.660656 -79.374847   \n",
       "1236           Kingsview Village-The Westway (6)  43.701328 -79.548676   \n",
       "1237                            Black Creek (24)  43.759018 -79.517776   \n",
       "1238      Waterfront Communities-The Island (77)  43.644955 -79.397644   \n",
       "1240       Mount Olive-Silverstone-Jamestown (2)  43.750977 -79.585831   \n",
       "\n",
       "        ObjectId  \n",
       "Index_            \n",
       "1              1  \n",
       "2              2  \n",
       "3              3  \n",
       "4              4  \n",
       "5              5  \n",
       "...          ...  \n",
       "1235        1011  \n",
       "1236        1012  \n",
       "1237        1013  \n",
       "1238        1014  \n",
       "1240        1015  \n",
       "\n",
       "[1015 rows x 12 columns]"
      ]
     },
     "execution_count": 10,
     "metadata": {},
     "output_type": "execute_result"
    }
   ],
   "source": [
    "homicide"
   ]
  },
  {
   "cell_type": "code",
   "execution_count": 11,
   "metadata": {},
   "outputs": [],
   "source": [
    "#list the types of homicides in the order of their frequency\n",
    "homicide_type = homicide.groupby('Homicide_Type')"
   ]
  },
  {
   "cell_type": "code",
   "execution_count": 16,
   "metadata": {},
   "outputs": [
    {
     "data": {
      "text/plain": [
       "Homicide_Type\n",
       "Other       263\n",
       "Shooting    526\n",
       "Stabbing    226\n",
       "Name: Event_Unique_ID, dtype: int64"
      ]
     },
     "execution_count": 16,
     "metadata": {},
     "output_type": "execute_result"
    }
   ],
   "source": [
    "homicide_type.count()['Event_Unique_ID']"
   ]
  },
  {
   "cell_type": "code",
   "execution_count": 17,
   "metadata": {},
   "outputs": [
    {
     "data": {
      "text/plain": [
       "Shooting    526\n",
       "Other       263\n",
       "Stabbing    226\n",
       "Name: Homicide_Type, dtype: int64"
      ]
     },
     "execution_count": 17,
     "metadata": {},
     "output_type": "execute_result"
    }
   ],
   "source": [
    "homicide['Homicide_Type'].value_counts()"
   ]
  },
  {
   "cell_type": "code",
   "execution_count": 20,
   "metadata": {},
   "outputs": [
    {
     "ename": "TypeError",
     "evalue": "no numeric data to plot",
     "output_type": "error",
     "traceback": [
      "\u001b[1;31m---------------------------------------------------------------------------\u001b[0m",
      "\u001b[1;31mTypeError\u001b[0m                                 Traceback (most recent call last)",
      "\u001b[1;32m<ipython-input-20-f38228e9cc71>\u001b[0m in \u001b[0;36m<module>\u001b[1;34m\u001b[0m\n\u001b[0;32m      1\u001b[0m \u001b[1;31m#plot the homicide types and their frequencies on a bar chart\u001b[0m\u001b[1;33m\u001b[0m\u001b[1;33m\u001b[0m\u001b[1;33m\u001b[0m\u001b[0m\n\u001b[0;32m      2\u001b[0m \u001b[1;33m\u001b[0m\u001b[0m\n\u001b[1;32m----> 3\u001b[1;33m \u001b[0mhomicide\u001b[0m\u001b[1;33m[\u001b[0m\u001b[1;34m'Homicide_Type'\u001b[0m\u001b[1;33m]\u001b[0m\u001b[1;33m.\u001b[0m\u001b[0mplot\u001b[0m\u001b[1;33m.\u001b[0m\u001b[0mbar\u001b[0m\u001b[1;33m(\u001b[0m\u001b[1;33m)\u001b[0m\u001b[1;33m\u001b[0m\u001b[1;33m\u001b[0m\u001b[0m\n\u001b[0m",
      "\u001b[1;32m~\\anaconda3\\lib\\site-packages\\pandas\\plotting\\_core.py\u001b[0m in \u001b[0;36mbar\u001b[1;34m(self, x, y, **kwargs)\u001b[0m\n\u001b[0;32m   1001\u001b[0m             \u001b[1;33m>>\u001b[0m\u001b[1;33m>\u001b[0m \u001b[0max\u001b[0m \u001b[1;33m=\u001b[0m \u001b[0mdf\u001b[0m\u001b[1;33m.\u001b[0m\u001b[0mplot\u001b[0m\u001b[1;33m.\u001b[0m\u001b[0mbar\u001b[0m\u001b[1;33m(\u001b[0m\u001b[0mx\u001b[0m\u001b[1;33m=\u001b[0m\u001b[1;34m'lifespan'\u001b[0m\u001b[1;33m,\u001b[0m \u001b[0mrot\u001b[0m\u001b[1;33m=\u001b[0m\u001b[1;36m0\u001b[0m\u001b[1;33m)\u001b[0m\u001b[1;33m\u001b[0m\u001b[1;33m\u001b[0m\u001b[0m\n\u001b[0;32m   1002\u001b[0m         \"\"\"\n\u001b[1;32m-> 1003\u001b[1;33m         \u001b[1;32mreturn\u001b[0m \u001b[0mself\u001b[0m\u001b[1;33m(\u001b[0m\u001b[0mkind\u001b[0m\u001b[1;33m=\u001b[0m\u001b[1;34m\"bar\"\u001b[0m\u001b[1;33m,\u001b[0m \u001b[0mx\u001b[0m\u001b[1;33m=\u001b[0m\u001b[0mx\u001b[0m\u001b[1;33m,\u001b[0m \u001b[0my\u001b[0m\u001b[1;33m=\u001b[0m\u001b[0my\u001b[0m\u001b[1;33m,\u001b[0m \u001b[1;33m**\u001b[0m\u001b[0mkwargs\u001b[0m\u001b[1;33m)\u001b[0m\u001b[1;33m\u001b[0m\u001b[1;33m\u001b[0m\u001b[0m\n\u001b[0m\u001b[0;32m   1004\u001b[0m \u001b[1;33m\u001b[0m\u001b[0m\n\u001b[0;32m   1005\u001b[0m     \u001b[1;32mdef\u001b[0m \u001b[0mbarh\u001b[0m\u001b[1;33m(\u001b[0m\u001b[0mself\u001b[0m\u001b[1;33m,\u001b[0m \u001b[0mx\u001b[0m\u001b[1;33m=\u001b[0m\u001b[1;32mNone\u001b[0m\u001b[1;33m,\u001b[0m \u001b[0my\u001b[0m\u001b[1;33m=\u001b[0m\u001b[1;32mNone\u001b[0m\u001b[1;33m,\u001b[0m \u001b[1;33m**\u001b[0m\u001b[0mkwargs\u001b[0m\u001b[1;33m)\u001b[0m\u001b[1;33m:\u001b[0m\u001b[1;33m\u001b[0m\u001b[1;33m\u001b[0m\u001b[0m\n",
      "\u001b[1;32m~\\anaconda3\\lib\\site-packages\\pandas\\plotting\\_core.py\u001b[0m in \u001b[0;36m__call__\u001b[1;34m(self, *args, **kwargs)\u001b[0m\n\u001b[0;32m    845\u001b[0m                     \u001b[0mdata\u001b[0m\u001b[1;33m.\u001b[0m\u001b[0mcolumns\u001b[0m \u001b[1;33m=\u001b[0m \u001b[0mlabel_name\u001b[0m\u001b[1;33m\u001b[0m\u001b[1;33m\u001b[0m\u001b[0m\n\u001b[0;32m    846\u001b[0m \u001b[1;33m\u001b[0m\u001b[0m\n\u001b[1;32m--> 847\u001b[1;33m         \u001b[1;32mreturn\u001b[0m \u001b[0mplot_backend\u001b[0m\u001b[1;33m.\u001b[0m\u001b[0mplot\u001b[0m\u001b[1;33m(\u001b[0m\u001b[0mdata\u001b[0m\u001b[1;33m,\u001b[0m \u001b[0mkind\u001b[0m\u001b[1;33m=\u001b[0m\u001b[0mkind\u001b[0m\u001b[1;33m,\u001b[0m \u001b[1;33m**\u001b[0m\u001b[0mkwargs\u001b[0m\u001b[1;33m)\u001b[0m\u001b[1;33m\u001b[0m\u001b[1;33m\u001b[0m\u001b[0m\n\u001b[0m\u001b[0;32m    848\u001b[0m \u001b[1;33m\u001b[0m\u001b[0m\n\u001b[0;32m    849\u001b[0m     \u001b[0m__call__\u001b[0m\u001b[1;33m.\u001b[0m\u001b[0m__doc__\u001b[0m \u001b[1;33m=\u001b[0m \u001b[0m__doc__\u001b[0m\u001b[1;33m\u001b[0m\u001b[1;33m\u001b[0m\u001b[0m\n",
      "\u001b[1;32m~\\anaconda3\\lib\\site-packages\\pandas\\plotting\\_matplotlib\\__init__.py\u001b[0m in \u001b[0;36mplot\u001b[1;34m(data, kind, **kwargs)\u001b[0m\n\u001b[0;32m     59\u001b[0m             \u001b[0mkwargs\u001b[0m\u001b[1;33m[\u001b[0m\u001b[1;34m\"ax\"\u001b[0m\u001b[1;33m]\u001b[0m \u001b[1;33m=\u001b[0m \u001b[0mgetattr\u001b[0m\u001b[1;33m(\u001b[0m\u001b[0max\u001b[0m\u001b[1;33m,\u001b[0m \u001b[1;34m\"left_ax\"\u001b[0m\u001b[1;33m,\u001b[0m \u001b[0max\u001b[0m\u001b[1;33m)\u001b[0m\u001b[1;33m\u001b[0m\u001b[1;33m\u001b[0m\u001b[0m\n\u001b[0;32m     60\u001b[0m     \u001b[0mplot_obj\u001b[0m \u001b[1;33m=\u001b[0m \u001b[0mPLOT_CLASSES\u001b[0m\u001b[1;33m[\u001b[0m\u001b[0mkind\u001b[0m\u001b[1;33m]\u001b[0m\u001b[1;33m(\u001b[0m\u001b[0mdata\u001b[0m\u001b[1;33m,\u001b[0m \u001b[1;33m**\u001b[0m\u001b[0mkwargs\u001b[0m\u001b[1;33m)\u001b[0m\u001b[1;33m\u001b[0m\u001b[1;33m\u001b[0m\u001b[0m\n\u001b[1;32m---> 61\u001b[1;33m     \u001b[0mplot_obj\u001b[0m\u001b[1;33m.\u001b[0m\u001b[0mgenerate\u001b[0m\u001b[1;33m(\u001b[0m\u001b[1;33m)\u001b[0m\u001b[1;33m\u001b[0m\u001b[1;33m\u001b[0m\u001b[0m\n\u001b[0m\u001b[0;32m     62\u001b[0m     \u001b[0mplot_obj\u001b[0m\u001b[1;33m.\u001b[0m\u001b[0mdraw\u001b[0m\u001b[1;33m(\u001b[0m\u001b[1;33m)\u001b[0m\u001b[1;33m\u001b[0m\u001b[1;33m\u001b[0m\u001b[0m\n\u001b[0;32m     63\u001b[0m     \u001b[1;32mreturn\u001b[0m \u001b[0mplot_obj\u001b[0m\u001b[1;33m.\u001b[0m\u001b[0mresult\u001b[0m\u001b[1;33m\u001b[0m\u001b[1;33m\u001b[0m\u001b[0m\n",
      "\u001b[1;32m~\\anaconda3\\lib\\site-packages\\pandas\\plotting\\_matplotlib\\core.py\u001b[0m in \u001b[0;36mgenerate\u001b[1;34m(self)\u001b[0m\n\u001b[0;32m    259\u001b[0m     \u001b[1;32mdef\u001b[0m \u001b[0mgenerate\u001b[0m\u001b[1;33m(\u001b[0m\u001b[0mself\u001b[0m\u001b[1;33m)\u001b[0m\u001b[1;33m:\u001b[0m\u001b[1;33m\u001b[0m\u001b[1;33m\u001b[0m\u001b[0m\n\u001b[0;32m    260\u001b[0m         \u001b[0mself\u001b[0m\u001b[1;33m.\u001b[0m\u001b[0m_args_adjust\u001b[0m\u001b[1;33m(\u001b[0m\u001b[1;33m)\u001b[0m\u001b[1;33m\u001b[0m\u001b[1;33m\u001b[0m\u001b[0m\n\u001b[1;32m--> 261\u001b[1;33m         \u001b[0mself\u001b[0m\u001b[1;33m.\u001b[0m\u001b[0m_compute_plot_data\u001b[0m\u001b[1;33m(\u001b[0m\u001b[1;33m)\u001b[0m\u001b[1;33m\u001b[0m\u001b[1;33m\u001b[0m\u001b[0m\n\u001b[0m\u001b[0;32m    262\u001b[0m         \u001b[0mself\u001b[0m\u001b[1;33m.\u001b[0m\u001b[0m_setup_subplots\u001b[0m\u001b[1;33m(\u001b[0m\u001b[1;33m)\u001b[0m\u001b[1;33m\u001b[0m\u001b[1;33m\u001b[0m\u001b[0m\n\u001b[0;32m    263\u001b[0m         \u001b[0mself\u001b[0m\u001b[1;33m.\u001b[0m\u001b[0m_make_plot\u001b[0m\u001b[1;33m(\u001b[0m\u001b[1;33m)\u001b[0m\u001b[1;33m\u001b[0m\u001b[1;33m\u001b[0m\u001b[0m\n",
      "\u001b[1;32m~\\anaconda3\\lib\\site-packages\\pandas\\plotting\\_matplotlib\\core.py\u001b[0m in \u001b[0;36m_compute_plot_data\u001b[1;34m(self)\u001b[0m\n\u001b[0;32m    408\u001b[0m         \u001b[1;31m# no non-numeric frames or series allowed\u001b[0m\u001b[1;33m\u001b[0m\u001b[1;33m\u001b[0m\u001b[1;33m\u001b[0m\u001b[0m\n\u001b[0;32m    409\u001b[0m         \u001b[1;32mif\u001b[0m \u001b[0mis_empty\u001b[0m\u001b[1;33m:\u001b[0m\u001b[1;33m\u001b[0m\u001b[1;33m\u001b[0m\u001b[0m\n\u001b[1;32m--> 410\u001b[1;33m             \u001b[1;32mraise\u001b[0m \u001b[0mTypeError\u001b[0m\u001b[1;33m(\u001b[0m\u001b[1;34m\"no numeric data to plot\"\u001b[0m\u001b[1;33m)\u001b[0m\u001b[1;33m\u001b[0m\u001b[1;33m\u001b[0m\u001b[0m\n\u001b[0m\u001b[0;32m    411\u001b[0m \u001b[1;33m\u001b[0m\u001b[0m\n\u001b[0;32m    412\u001b[0m         \u001b[1;31m# GH25587: cast ExtensionArray of pandas (IntegerArray, etc.) to\u001b[0m\u001b[1;33m\u001b[0m\u001b[1;33m\u001b[0m\u001b[1;33m\u001b[0m\u001b[0m\n",
      "\u001b[1;31mTypeError\u001b[0m: no numeric data to plot"
     ]
    }
   ],
   "source": [
    "#plot the homicide types and their frequencies on a bar chart\n",
    "\n",
    "homicide['Homicide_Type'].plot.bar()"
   ]
  },
  {
   "cell_type": "code",
   "execution_count": null,
   "metadata": {},
   "outputs": [],
   "source": []
  },
  {
   "cell_type": "code",
   "execution_count": 29,
   "metadata": {},
   "outputs": [],
   "source": [
    "#find the year with the highest number of shootings\n",
    "\n",
    "group_yr = homicide[homicide['Homicide_Type'] == 'Shooting'].groupby('Occurrence_year')"
   ]
  },
  {
   "cell_type": "code",
   "execution_count": 37,
   "metadata": {},
   "outputs": [
    {
     "data": {
      "text/plain": [
       "Occurrence_year\n",
       "2005    53\n",
       "2018    51\n",
       "2007    44\n",
       "2016    41\n",
       "2017    39\n",
       "2009    37\n",
       "2008    37\n",
       "2012    34\n",
       "2010    32\n",
       "2006    29\n",
       "2011    28\n",
       "2014    27\n",
       "2015    26\n",
       "2004    26\n",
       "2013    22\n",
       "Name: Event_Unique_ID, dtype: int64"
      ]
     },
     "execution_count": 37,
     "metadata": {},
     "output_type": "execute_result"
    }
   ],
   "source": [
    "group_yr.count()['Event_Unique_ID'].sort_values(ascending = False)"
   ]
  },
  {
   "cell_type": "code",
   "execution_count": 38,
   "metadata": {},
   "outputs": [],
   "source": [
    "#for 2018, list the months with the highest and lowest homicides\n",
    "#Needs to create a month colum"
   ]
  },
  {
   "cell_type": "code",
   "execution_count": null,
   "metadata": {},
   "outputs": [],
   "source": [
    "#month column function\n",
    "def month(input):\n",
    "    return homicide['Month'] = homicide['Occurrence_Date'].split['-'] "
   ]
  }
 ],
 "metadata": {
  "kernelspec": {
   "display_name": "Python 3",
   "language": "python",
   "name": "python3"
  },
  "language_info": {
   "codemirror_mode": {
    "name": "ipython",
    "version": 3
   },
   "file_extension": ".py",
   "mimetype": "text/x-python",
   "name": "python",
   "nbconvert_exporter": "python",
   "pygments_lexer": "ipython3",
   "version": "3.7.6"
  }
 },
 "nbformat": 4,
 "nbformat_minor": 4
}
