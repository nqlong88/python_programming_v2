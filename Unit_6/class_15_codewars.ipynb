{
 "cells": [
  {
   "cell_type": "code",
   "execution_count": 8,
   "metadata": {},
   "outputs": [
    {
     "name": "stdout",
     "output_type": "stream",
     "text": [
      "456\n",
      "15\n",
      "6\n"
     ]
    }
   ],
   "source": [
    "def digital_root(n):\n",
    "    test = int(str(n)[::]) \n",
    "    while len(str(test)) > 1:\n",
    "        total = 0\n",
    "        print(test)\n",
    "        for item in str(test):\n",
    "            total += int(item)\n",
    "            test = total\n",
    "    return test\n",
    "\n",
    "\n",
    "\n",
    "print(digital_root(456))"
   ]
  },
  {
   "cell_type": "code",
   "execution_count": null,
   "metadata": {},
   "outputs": [],
   "source": []
  }
 ],
 "metadata": {
  "kernelspec": {
   "display_name": "Python 3",
   "language": "python",
   "name": "python3"
  },
  "language_info": {
   "codemirror_mode": {
    "name": "ipython",
    "version": 3
   },
   "file_extension": ".py",
   "mimetype": "text/x-python",
   "name": "python",
   "nbconvert_exporter": "python",
   "pygments_lexer": "ipython3",
   "version": "3.7.6"
  }
 },
 "nbformat": 4,
 "nbformat_minor": 4
}
