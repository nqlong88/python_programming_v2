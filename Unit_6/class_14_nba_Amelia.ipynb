{
 "cells": [
  {
   "cell_type": "code",
   "execution_count": 1,
   "metadata": {},
   "outputs": [],
   "source": [
    "import numpy as np\n",
    "import pandas as pd\n",
    "import json"
   ]
  },
  {
   "cell_type": "code",
   "execution_count": 15,
   "metadata": {},
   "outputs": [],
   "source": [
    "import requests\n",
    "\n",
    "url = \"https://free-nba.p.rapidapi.com/stats\"\n",
    "\n",
    "querystring = {\"page\":\"0\",\"per_page\":\"100\"}\n",
    "\n",
    "headers = {\n",
    "    'x-rapidapi-host': \"free-nba.p.rapidapi.com\",\n",
    "    'x-rapidapi-key': \"d23b618a4cmsh1d6eb705ebd5503p1a74acjsnaf9ba0ec4cd9\"\n",
    "    }\n",
    "\n",
    "response = requests.request(\"GET\", url, headers=headers, params=querystring)"
   ]
  },
  {
   "cell_type": "code",
   "execution_count": 16,
   "metadata": {},
   "outputs": [],
   "source": [
    "nba = pd.json_normalize(response.json()[\"data\"])"
   ]
  },
  {
   "cell_type": "code",
   "execution_count": 17,
   "metadata": {},
   "outputs": [
    {
     "data": {
      "text/html": [
       "<div>\n",
       "<style scoped>\n",
       "    .dataframe tbody tr th:only-of-type {\n",
       "        vertical-align: middle;\n",
       "    }\n",
       "\n",
       "    .dataframe tbody tr th {\n",
       "        vertical-align: top;\n",
       "    }\n",
       "\n",
       "    .dataframe thead th {\n",
       "        text-align: right;\n",
       "    }\n",
       "</style>\n",
       "<table border=\"1\" class=\"dataframe\">\n",
       "  <thead>\n",
       "    <tr style=\"text-align: right;\">\n",
       "      <th></th>\n",
       "      <th>id</th>\n",
       "      <th>ast</th>\n",
       "      <th>blk</th>\n",
       "      <th>dreb</th>\n",
       "      <th>fg3_pct</th>\n",
       "      <th>fg3a</th>\n",
       "      <th>fg3m</th>\n",
       "      <th>fg_pct</th>\n",
       "      <th>fga</th>\n",
       "      <th>fgm</th>\n",
       "      <th>...</th>\n",
       "      <th>player.position</th>\n",
       "      <th>player.team_id</th>\n",
       "      <th>player.weight_pounds</th>\n",
       "      <th>team.id</th>\n",
       "      <th>team.abbreviation</th>\n",
       "      <th>team.city</th>\n",
       "      <th>team.conference</th>\n",
       "      <th>team.division</th>\n",
       "      <th>team.full_name</th>\n",
       "      <th>team.name</th>\n",
       "    </tr>\n",
       "  </thead>\n",
       "  <tbody>\n",
       "    <tr>\n",
       "      <th>0</th>\n",
       "      <td>1069008</td>\n",
       "      <td>0.0</td>\n",
       "      <td>1.0</td>\n",
       "      <td>2.0</td>\n",
       "      <td>0.200</td>\n",
       "      <td>5.0</td>\n",
       "      <td>1.0</td>\n",
       "      <td>0.333</td>\n",
       "      <td>9.0</td>\n",
       "      <td>3.0</td>\n",
       "      <td>...</td>\n",
       "      <td>G</td>\n",
       "      <td>3</td>\n",
       "      <td>215.0</td>\n",
       "      <td>26</td>\n",
       "      <td>SAC</td>\n",
       "      <td>Sacramento</td>\n",
       "      <td>West</td>\n",
       "      <td>Pacific</td>\n",
       "      <td>Sacramento Kings</td>\n",
       "      <td>Kings</td>\n",
       "    </tr>\n",
       "    <tr>\n",
       "      <th>1</th>\n",
       "      <td>1069009</td>\n",
       "      <td>4.0</td>\n",
       "      <td>0.0</td>\n",
       "      <td>5.0</td>\n",
       "      <td>0.000</td>\n",
       "      <td>2.0</td>\n",
       "      <td>0.0</td>\n",
       "      <td>0.200</td>\n",
       "      <td>5.0</td>\n",
       "      <td>1.0</td>\n",
       "      <td>...</td>\n",
       "      <td>F</td>\n",
       "      <td>26</td>\n",
       "      <td>234.0</td>\n",
       "      <td>26</td>\n",
       "      <td>SAC</td>\n",
       "      <td>Sacramento</td>\n",
       "      <td>West</td>\n",
       "      <td>Pacific</td>\n",
       "      <td>Sacramento Kings</td>\n",
       "      <td>Kings</td>\n",
       "    </tr>\n",
       "    <tr>\n",
       "      <th>2</th>\n",
       "      <td>1069010</td>\n",
       "      <td>4.0</td>\n",
       "      <td>1.0</td>\n",
       "      <td>5.0</td>\n",
       "      <td>0.000</td>\n",
       "      <td>0.0</td>\n",
       "      <td>0.0</td>\n",
       "      <td>0.667</td>\n",
       "      <td>6.0</td>\n",
       "      <td>4.0</td>\n",
       "      <td>...</td>\n",
       "      <td>C</td>\n",
       "      <td>7</td>\n",
       "      <td>240.0</td>\n",
       "      <td>26</td>\n",
       "      <td>SAC</td>\n",
       "      <td>Sacramento</td>\n",
       "      <td>West</td>\n",
       "      <td>Pacific</td>\n",
       "      <td>Sacramento Kings</td>\n",
       "      <td>Kings</td>\n",
       "    </tr>\n",
       "    <tr>\n",
       "      <th>3</th>\n",
       "      <td>1069011</td>\n",
       "      <td>1.0</td>\n",
       "      <td>0.0</td>\n",
       "      <td>1.0</td>\n",
       "      <td>0.545</td>\n",
       "      <td>11.0</td>\n",
       "      <td>6.0</td>\n",
       "      <td>0.500</td>\n",
       "      <td>18.0</td>\n",
       "      <td>9.0</td>\n",
       "      <td>...</td>\n",
       "      <td>G</td>\n",
       "      <td>26</td>\n",
       "      <td>214.0</td>\n",
       "      <td>26</td>\n",
       "      <td>SAC</td>\n",
       "      <td>Sacramento</td>\n",
       "      <td>West</td>\n",
       "      <td>Pacific</td>\n",
       "      <td>Sacramento Kings</td>\n",
       "      <td>Kings</td>\n",
       "    </tr>\n",
       "    <tr>\n",
       "      <th>4</th>\n",
       "      <td>1069012</td>\n",
       "      <td>8.0</td>\n",
       "      <td>1.0</td>\n",
       "      <td>5.0</td>\n",
       "      <td>0.000</td>\n",
       "      <td>2.0</td>\n",
       "      <td>0.0</td>\n",
       "      <td>0.400</td>\n",
       "      <td>10.0</td>\n",
       "      <td>4.0</td>\n",
       "      <td>...</td>\n",
       "      <td>G</td>\n",
       "      <td>26</td>\n",
       "      <td>175.0</td>\n",
       "      <td>26</td>\n",
       "      <td>SAC</td>\n",
       "      <td>Sacramento</td>\n",
       "      <td>West</td>\n",
       "      <td>Pacific</td>\n",
       "      <td>Sacramento Kings</td>\n",
       "      <td>Kings</td>\n",
       "    </tr>\n",
       "  </tbody>\n",
       "</table>\n",
       "<p>5 rows × 46 columns</p>\n",
       "</div>"
      ],
      "text/plain": [
       "        id  ast  blk  dreb  fg3_pct  fg3a  fg3m  fg_pct   fga  fgm  ...  \\\n",
       "0  1069008  0.0  1.0   2.0    0.200   5.0   1.0   0.333   9.0  3.0  ...   \n",
       "1  1069009  4.0  0.0   5.0    0.000   2.0   0.0   0.200   5.0  1.0  ...   \n",
       "2  1069010  4.0  1.0   5.0    0.000   0.0   0.0   0.667   6.0  4.0  ...   \n",
       "3  1069011  1.0  0.0   1.0    0.545  11.0   6.0   0.500  18.0  9.0  ...   \n",
       "4  1069012  8.0  1.0   5.0    0.000   2.0   0.0   0.400  10.0  4.0  ...   \n",
       "\n",
       "   player.position  player.team_id  player.weight_pounds team.id  \\\n",
       "0                G               3                 215.0      26   \n",
       "1                F              26                 234.0      26   \n",
       "2                C               7                 240.0      26   \n",
       "3                G              26                 214.0      26   \n",
       "4                G              26                 175.0      26   \n",
       "\n",
       "   team.abbreviation   team.city  team.conference  team.division  \\\n",
       "0                SAC  Sacramento             West        Pacific   \n",
       "1                SAC  Sacramento             West        Pacific   \n",
       "2                SAC  Sacramento             West        Pacific   \n",
       "3                SAC  Sacramento             West        Pacific   \n",
       "4                SAC  Sacramento             West        Pacific   \n",
       "\n",
       "     team.full_name  team.name  \n",
       "0  Sacramento Kings      Kings  \n",
       "1  Sacramento Kings      Kings  \n",
       "2  Sacramento Kings      Kings  \n",
       "3  Sacramento Kings      Kings  \n",
       "4  Sacramento Kings      Kings  \n",
       "\n",
       "[5 rows x 46 columns]"
      ]
     },
     "execution_count": 17,
     "metadata": {},
     "output_type": "execute_result"
    }
   ],
   "source": [
    "nba.head()"
   ]
  },
  {
   "cell_type": "code",
   "execution_count": 18,
   "metadata": {},
   "outputs": [
    {
     "data": {
      "text/plain": [
       "Index(['id', 'ast', 'blk', 'dreb', 'fg3_pct', 'fg3a', 'fg3m', 'fg_pct', 'fga',\n",
       "       'fgm', 'ft_pct', 'fta', 'ftm', 'min', 'oreb', 'pf', 'pts', 'reb', 'stl',\n",
       "       'turnover', 'game.id', 'game.date', 'game.home_team_id',\n",
       "       'game.home_team_score', 'game.period', 'game.postseason', 'game.season',\n",
       "       'game.status', 'game.time', 'game.visitor_team_id',\n",
       "       'game.visitor_team_score', 'player.id', 'player.first_name',\n",
       "       'player.height_feet', 'player.height_inches', 'player.last_name',\n",
       "       'player.position', 'player.team_id', 'player.weight_pounds', 'team.id',\n",
       "       'team.abbreviation', 'team.city', 'team.conference', 'team.division',\n",
       "       'team.full_name', 'team.name'],\n",
       "      dtype='object')"
      ]
     },
     "execution_count": 18,
     "metadata": {},
     "output_type": "execute_result"
    }
   ],
   "source": [
    "nba.columns"
   ]
  },
  {
   "cell_type": "code",
   "execution_count": 19,
   "metadata": {},
   "outputs": [
    {
     "data": {
      "text/plain": [
       "(100, 46)"
      ]
     },
     "execution_count": 19,
     "metadata": {},
     "output_type": "execute_result"
    }
   ],
   "source": [
    "nba.shape"
   ]
  },
  {
   "cell_type": "code",
   "execution_count": 21,
   "metadata": {},
   "outputs": [],
   "source": [
    "for pagenum in range(1,5):\n",
    "    querystring[\"page\"] = str(pagenum)\n",
    "    response = requests.request(\"GET\", url, headers=headers, params=querystring)\n",
    "    pageframe = pd.json_normalize(response.json()[\"data\"])\n",
    "    nba = pd.concat([nba, pageframe])"
   ]
  },
  {
   "cell_type": "code",
   "execution_count": 22,
   "metadata": {},
   "outputs": [
    {
     "data": {
      "text/plain": [
       "(500, 46)"
      ]
     },
     "execution_count": 22,
     "metadata": {},
     "output_type": "execute_result"
    }
   ],
   "source": [
    "nba.shape"
   ]
  },
  {
   "cell_type": "code",
   "execution_count": 42,
   "metadata": {},
   "outputs": [],
   "source": [
    "teams = nba.groupby(\"team.full_name\").sum()"
   ]
  },
  {
   "cell_type": "code",
   "execution_count": 44,
   "metadata": {},
   "outputs": [],
   "source": [
    "teams[\"fg3_total_pct\"] = teams[\"fg3m\"] / teams[\"fg3a\"]"
   ]
  },
  {
   "cell_type": "code",
   "execution_count": 46,
   "metadata": {},
   "outputs": [
    {
     "data": {
      "text/html": [
       "<div>\n",
       "<style scoped>\n",
       "    .dataframe tbody tr th:only-of-type {\n",
       "        vertical-align: middle;\n",
       "    }\n",
       "\n",
       "    .dataframe tbody tr th {\n",
       "        vertical-align: top;\n",
       "    }\n",
       "\n",
       "    .dataframe thead th {\n",
       "        text-align: right;\n",
       "    }\n",
       "</style>\n",
       "<table border=\"1\" class=\"dataframe\">\n",
       "  <thead>\n",
       "    <tr style=\"text-align: right;\">\n",
       "      <th></th>\n",
       "      <th>fg3a</th>\n",
       "      <th>fg3m</th>\n",
       "      <th>fg3_total_pct</th>\n",
       "    </tr>\n",
       "    <tr>\n",
       "      <th>team.full_name</th>\n",
       "      <th></th>\n",
       "      <th></th>\n",
       "      <th></th>\n",
       "    </tr>\n",
       "  </thead>\n",
       "  <tbody>\n",
       "    <tr>\n",
       "      <th>Boston Celtics</th>\n",
       "      <td>38.0</td>\n",
       "      <td>17.0</td>\n",
       "      <td>0.447368</td>\n",
       "    </tr>\n",
       "    <tr>\n",
       "      <th>Brooklyn Nets</th>\n",
       "      <td>46.0</td>\n",
       "      <td>19.0</td>\n",
       "      <td>0.413043</td>\n",
       "    </tr>\n",
       "    <tr>\n",
       "      <th>Charlotte Hornets</th>\n",
       "      <td>76.0</td>\n",
       "      <td>22.0</td>\n",
       "      <td>0.289474</td>\n",
       "    </tr>\n",
       "    <tr>\n",
       "      <th>Chicago Bulls</th>\n",
       "      <td>28.0</td>\n",
       "      <td>10.0</td>\n",
       "      <td>0.357143</td>\n",
       "    </tr>\n",
       "    <tr>\n",
       "      <th>Cleveland Cavaliers</th>\n",
       "      <td>53.0</td>\n",
       "      <td>17.0</td>\n",
       "      <td>0.320755</td>\n",
       "    </tr>\n",
       "    <tr>\n",
       "      <th>Dallas Mavericks</th>\n",
       "      <td>37.0</td>\n",
       "      <td>9.0</td>\n",
       "      <td>0.243243</td>\n",
       "    </tr>\n",
       "    <tr>\n",
       "      <th>Denver Nuggets</th>\n",
       "      <td>77.0</td>\n",
       "      <td>35.0</td>\n",
       "      <td>0.454545</td>\n",
       "    </tr>\n",
       "    <tr>\n",
       "      <th>Detroit Pistons</th>\n",
       "      <td>33.0</td>\n",
       "      <td>13.0</td>\n",
       "      <td>0.393939</td>\n",
       "    </tr>\n",
       "    <tr>\n",
       "      <th>Golden State Warriors</th>\n",
       "      <td>37.0</td>\n",
       "      <td>9.0</td>\n",
       "      <td>0.243243</td>\n",
       "    </tr>\n",
       "    <tr>\n",
       "      <th>Indiana Pacers</th>\n",
       "      <td>82.0</td>\n",
       "      <td>26.0</td>\n",
       "      <td>0.317073</td>\n",
       "    </tr>\n",
       "    <tr>\n",
       "      <th>LA Clippers</th>\n",
       "      <td>25.0</td>\n",
       "      <td>4.0</td>\n",
       "      <td>0.160000</td>\n",
       "    </tr>\n",
       "    <tr>\n",
       "      <th>Los Angeles Lakers</th>\n",
       "      <td>80.0</td>\n",
       "      <td>38.0</td>\n",
       "      <td>0.475000</td>\n",
       "    </tr>\n",
       "    <tr>\n",
       "      <th>Memphis Grizzlies</th>\n",
       "      <td>35.0</td>\n",
       "      <td>16.0</td>\n",
       "      <td>0.457143</td>\n",
       "    </tr>\n",
       "    <tr>\n",
       "      <th>Miami Heat</th>\n",
       "      <td>29.0</td>\n",
       "      <td>10.0</td>\n",
       "      <td>0.344828</td>\n",
       "    </tr>\n",
       "    <tr>\n",
       "      <th>Milwaukee Bucks</th>\n",
       "      <td>0.0</td>\n",
       "      <td>0.0</td>\n",
       "      <td>NaN</td>\n",
       "    </tr>\n",
       "    <tr>\n",
       "      <th>Minnesota Timberwolves</th>\n",
       "      <td>26.0</td>\n",
       "      <td>7.0</td>\n",
       "      <td>0.269231</td>\n",
       "    </tr>\n",
       "    <tr>\n",
       "      <th>New Orleans Pelicans</th>\n",
       "      <td>25.0</td>\n",
       "      <td>8.0</td>\n",
       "      <td>0.320000</td>\n",
       "    </tr>\n",
       "    <tr>\n",
       "      <th>New York Knicks</th>\n",
       "      <td>29.0</td>\n",
       "      <td>12.0</td>\n",
       "      <td>0.413793</td>\n",
       "    </tr>\n",
       "    <tr>\n",
       "      <th>Oklahoma City Thunder</th>\n",
       "      <td>139.0</td>\n",
       "      <td>56.0</td>\n",
       "      <td>0.402878</td>\n",
       "    </tr>\n",
       "    <tr>\n",
       "      <th>Orlando Magic</th>\n",
       "      <td>26.0</td>\n",
       "      <td>10.0</td>\n",
       "      <td>0.384615</td>\n",
       "    </tr>\n",
       "    <tr>\n",
       "      <th>Philadelphia 76ers</th>\n",
       "      <td>100.0</td>\n",
       "      <td>47.0</td>\n",
       "      <td>0.470000</td>\n",
       "    </tr>\n",
       "    <tr>\n",
       "      <th>Phoenix Suns</th>\n",
       "      <td>60.0</td>\n",
       "      <td>18.0</td>\n",
       "      <td>0.300000</td>\n",
       "    </tr>\n",
       "    <tr>\n",
       "      <th>Portland Trail Blazers</th>\n",
       "      <td>34.0</td>\n",
       "      <td>11.0</td>\n",
       "      <td>0.323529</td>\n",
       "    </tr>\n",
       "    <tr>\n",
       "      <th>Sacramento Kings</th>\n",
       "      <td>66.0</td>\n",
       "      <td>22.0</td>\n",
       "      <td>0.333333</td>\n",
       "    </tr>\n",
       "    <tr>\n",
       "      <th>San Antonio Spurs</th>\n",
       "      <td>24.0</td>\n",
       "      <td>11.0</td>\n",
       "      <td>0.458333</td>\n",
       "    </tr>\n",
       "    <tr>\n",
       "      <th>Toronto Raptors</th>\n",
       "      <td>56.0</td>\n",
       "      <td>14.0</td>\n",
       "      <td>0.250000</td>\n",
       "    </tr>\n",
       "    <tr>\n",
       "      <th>Utah Jazz</th>\n",
       "      <td>37.0</td>\n",
       "      <td>13.0</td>\n",
       "      <td>0.351351</td>\n",
       "    </tr>\n",
       "    <tr>\n",
       "      <th>Washington Wizards</th>\n",
       "      <td>27.0</td>\n",
       "      <td>7.0</td>\n",
       "      <td>0.259259</td>\n",
       "    </tr>\n",
       "  </tbody>\n",
       "</table>\n",
       "</div>"
      ],
      "text/plain": [
       "                         fg3a  fg3m  fg3_total_pct\n",
       "team.full_name                                    \n",
       "Boston Celtics           38.0  17.0       0.447368\n",
       "Brooklyn Nets            46.0  19.0       0.413043\n",
       "Charlotte Hornets        76.0  22.0       0.289474\n",
       "Chicago Bulls            28.0  10.0       0.357143\n",
       "Cleveland Cavaliers      53.0  17.0       0.320755\n",
       "Dallas Mavericks         37.0   9.0       0.243243\n",
       "Denver Nuggets           77.0  35.0       0.454545\n",
       "Detroit Pistons          33.0  13.0       0.393939\n",
       "Golden State Warriors    37.0   9.0       0.243243\n",
       "Indiana Pacers           82.0  26.0       0.317073\n",
       "LA Clippers              25.0   4.0       0.160000\n",
       "Los Angeles Lakers       80.0  38.0       0.475000\n",
       "Memphis Grizzlies        35.0  16.0       0.457143\n",
       "Miami Heat               29.0  10.0       0.344828\n",
       "Milwaukee Bucks           0.0   0.0            NaN\n",
       "Minnesota Timberwolves   26.0   7.0       0.269231\n",
       "New Orleans Pelicans     25.0   8.0       0.320000\n",
       "New York Knicks          29.0  12.0       0.413793\n",
       "Oklahoma City Thunder   139.0  56.0       0.402878\n",
       "Orlando Magic            26.0  10.0       0.384615\n",
       "Philadelphia 76ers      100.0  47.0       0.470000\n",
       "Phoenix Suns             60.0  18.0       0.300000\n",
       "Portland Trail Blazers   34.0  11.0       0.323529\n",
       "Sacramento Kings         66.0  22.0       0.333333\n",
       "San Antonio Spurs        24.0  11.0       0.458333\n",
       "Toronto Raptors          56.0  14.0       0.250000\n",
       "Utah Jazz                37.0  13.0       0.351351\n",
       "Washington Wizards       27.0   7.0       0.259259"
      ]
     },
     "execution_count": 46,
     "metadata": {},
     "output_type": "execute_result"
    }
   ],
   "source": [
    "teams[[\"fg3a\", \"fg3m\", \"fg3_total_pct\"]]"
   ]
  },
  {
   "cell_type": "code",
   "execution_count": 49,
   "metadata": {},
   "outputs": [
    {
     "data": {
      "text/plain": [
       "22"
      ]
     },
     "execution_count": 49,
     "metadata": {},
     "output_type": "execute_result"
    }
   ],
   "source": [
    "#How many games does your data set actually represent?\n",
    "nba[\"game.id\"].nunique()"
   ]
  },
  {
   "cell_type": "code",
   "execution_count": 55,
   "metadata": {},
   "outputs": [
    {
     "data": {
      "text/plain": [
       "player.id\n",
       "292    1.000\n",
       "487    0.800\n",
       "420    0.778\n",
       "473    0.750\n",
       "461    0.714\n",
       "Name: fg_pct, dtype: float64"
      ]
     },
     "execution_count": 55,
     "metadata": {},
     "output_type": "execute_result"
    }
   ],
   "source": [
    "#Who are the top five guards by field goal percent?\n",
    "nba[nba[\"player.position\"] == \"G\"].groupby(\"player.id\").mean()[\"fg_pct\"].sort_values(ascending=False).head()"
   ]
  },
  {
   "cell_type": "code",
   "execution_count": 62,
   "metadata": {},
   "outputs": [],
   "source": [
    "games = nba.groupby(\"game.id\").mean()[['game.home_team_id',\n",
    "       'game.home_team_score', 'game.period', 'game.postseason', 'game.season', 'game.visitor_team_id',\n",
    "       'game.visitor_team_score',]]"
   ]
  },
  {
   "cell_type": "code",
   "execution_count": 65,
   "metadata": {},
   "outputs": [],
   "source": [
    "games[\"home_team_win\"] =  games[\"game.home_team_score\"] > games[\"game.visitor_team_score\"]"
   ]
  },
  {
   "cell_type": "code",
   "execution_count": 69,
   "metadata": {},
   "outputs": [
    {
     "data": {
      "text/plain": [
       "8.0     2\n",
       "25.0    2\n",
       "12.0    1\n",
       "29.0    1\n",
       "9.0     1\n",
       "2.0     1\n",
       "30.0    1\n",
       "28.0    1\n",
       "4.0     1\n",
       "15.0    1\n",
       "20.0    1\n",
       "22.0    1\n",
       "10.0    1\n",
       "Name: game.home_team_id, dtype: int64"
      ]
     },
     "execution_count": 69,
     "metadata": {},
     "output_type": "execute_result"
    }
   ],
   "source": [
    "#Which team won most home games?\n",
    "games[games[\"home_team_win\"] == True][\"game.home_team_id\"].value_counts()"
   ]
  },
  {
   "cell_type": "code",
   "execution_count": 70,
   "metadata": {},
   "outputs": [
    {
     "data": {
      "text/plain": [
       "21.0    1\n",
       "3.0     1\n",
       "10.0    1\n",
       "27.0    1\n",
       "14.0    1\n",
       "23.0    1\n",
       "17.0    1\n",
       "Name: game.visitor_team_id, dtype: int64"
      ]
     },
     "execution_count": 70,
     "metadata": {},
     "output_type": "execute_result"
    }
   ],
   "source": [
    "#Which team won most away games?\n",
    "games[games[\"home_team_win\"] == False][\"game.visitor_team_id\"].value_counts()"
   ]
  },
  {
   "cell_type": "code",
   "execution_count": 74,
   "metadata": {},
   "outputs": [
    {
     "data": {
      "text/html": [
       "<div>\n",
       "<style scoped>\n",
       "    .dataframe tbody tr th:only-of-type {\n",
       "        vertical-align: middle;\n",
       "    }\n",
       "\n",
       "    .dataframe tbody tr th {\n",
       "        vertical-align: top;\n",
       "    }\n",
       "\n",
       "    .dataframe thead th {\n",
       "        text-align: right;\n",
       "    }\n",
       "</style>\n",
       "<table border=\"1\" class=\"dataframe\">\n",
       "  <thead>\n",
       "    <tr style=\"text-align: right;\">\n",
       "      <th></th>\n",
       "      <th>id</th>\n",
       "      <th>ast</th>\n",
       "      <th>blk</th>\n",
       "      <th>dreb</th>\n",
       "      <th>fg3_pct</th>\n",
       "      <th>fg3a</th>\n",
       "      <th>fg3m</th>\n",
       "      <th>fg_pct</th>\n",
       "      <th>fga</th>\n",
       "      <th>fgm</th>\n",
       "      <th>...</th>\n",
       "      <th>player.team_id</th>\n",
       "      <th>player.weight_pounds</th>\n",
       "      <th>team.id</th>\n",
       "      <th>team.abbreviation</th>\n",
       "      <th>team.city</th>\n",
       "      <th>team.conference</th>\n",
       "      <th>team.division</th>\n",
       "      <th>team.full_name</th>\n",
       "      <th>team.name</th>\n",
       "      <th>game.net_score</th>\n",
       "    </tr>\n",
       "  </thead>\n",
       "  <tbody>\n",
       "    <tr>\n",
       "      <th>0</th>\n",
       "      <td>1069008</td>\n",
       "      <td>0.0</td>\n",
       "      <td>1.0</td>\n",
       "      <td>2.0</td>\n",
       "      <td>0.2</td>\n",
       "      <td>5.0</td>\n",
       "      <td>1.0</td>\n",
       "      <td>0.333</td>\n",
       "      <td>9.0</td>\n",
       "      <td>3.0</td>\n",
       "      <td>...</td>\n",
       "      <td>3</td>\n",
       "      <td>215.0</td>\n",
       "      <td>26</td>\n",
       "      <td>SAC</td>\n",
       "      <td>Sacramento</td>\n",
       "      <td>West</td>\n",
       "      <td>Pacific</td>\n",
       "      <td>Sacramento Kings</td>\n",
       "      <td>Kings</td>\n",
       "      <td>19</td>\n",
       "    </tr>\n",
       "    <tr>\n",
       "      <th>1</th>\n",
       "      <td>1069009</td>\n",
       "      <td>4.0</td>\n",
       "      <td>0.0</td>\n",
       "      <td>5.0</td>\n",
       "      <td>0.0</td>\n",
       "      <td>2.0</td>\n",
       "      <td>0.0</td>\n",
       "      <td>0.200</td>\n",
       "      <td>5.0</td>\n",
       "      <td>1.0</td>\n",
       "      <td>...</td>\n",
       "      <td>26</td>\n",
       "      <td>234.0</td>\n",
       "      <td>26</td>\n",
       "      <td>SAC</td>\n",
       "      <td>Sacramento</td>\n",
       "      <td>West</td>\n",
       "      <td>Pacific</td>\n",
       "      <td>Sacramento Kings</td>\n",
       "      <td>Kings</td>\n",
       "      <td>19</td>\n",
       "    </tr>\n",
       "    <tr>\n",
       "      <th>0</th>\n",
       "      <td>1069008</td>\n",
       "      <td>0.0</td>\n",
       "      <td>1.0</td>\n",
       "      <td>2.0</td>\n",
       "      <td>0.2</td>\n",
       "      <td>5.0</td>\n",
       "      <td>1.0</td>\n",
       "      <td>0.333</td>\n",
       "      <td>9.0</td>\n",
       "      <td>3.0</td>\n",
       "      <td>...</td>\n",
       "      <td>3</td>\n",
       "      <td>215.0</td>\n",
       "      <td>26</td>\n",
       "      <td>SAC</td>\n",
       "      <td>Sacramento</td>\n",
       "      <td>West</td>\n",
       "      <td>Pacific</td>\n",
       "      <td>Sacramento Kings</td>\n",
       "      <td>Kings</td>\n",
       "      <td>19</td>\n",
       "    </tr>\n",
       "    <tr>\n",
       "      <th>1</th>\n",
       "      <td>1069009</td>\n",
       "      <td>4.0</td>\n",
       "      <td>0.0</td>\n",
       "      <td>5.0</td>\n",
       "      <td>0.0</td>\n",
       "      <td>2.0</td>\n",
       "      <td>0.0</td>\n",
       "      <td>0.200</td>\n",
       "      <td>5.0</td>\n",
       "      <td>1.0</td>\n",
       "      <td>...</td>\n",
       "      <td>26</td>\n",
       "      <td>234.0</td>\n",
       "      <td>26</td>\n",
       "      <td>SAC</td>\n",
       "      <td>Sacramento</td>\n",
       "      <td>West</td>\n",
       "      <td>Pacific</td>\n",
       "      <td>Sacramento Kings</td>\n",
       "      <td>Kings</td>\n",
       "      <td>19</td>\n",
       "    </tr>\n",
       "  </tbody>\n",
       "</table>\n",
       "<p>4 rows × 47 columns</p>\n",
       "</div>"
      ],
      "text/plain": [
       "        id  ast  blk  dreb  fg3_pct  fg3a  fg3m  fg_pct  fga  fgm  ...  \\\n",
       "0  1069008  0.0  1.0   2.0      0.2   5.0   1.0   0.333  9.0  3.0  ...   \n",
       "1  1069009  4.0  0.0   5.0      0.0   2.0   0.0   0.200  5.0  1.0  ...   \n",
       "0  1069008  0.0  1.0   2.0      0.2   5.0   1.0   0.333  9.0  3.0  ...   \n",
       "1  1069009  4.0  0.0   5.0      0.0   2.0   0.0   0.200  5.0  1.0  ...   \n",
       "\n",
       "   player.team_id  player.weight_pounds  team.id team.abbreviation  \\\n",
       "0               3                 215.0       26               SAC   \n",
       "1              26                 234.0       26               SAC   \n",
       "0               3                 215.0       26               SAC   \n",
       "1              26                 234.0       26               SAC   \n",
       "\n",
       "    team.city  team.conference  team.division    team.full_name  team.name  \\\n",
       "0  Sacramento             West        Pacific  Sacramento Kings      Kings   \n",
       "1  Sacramento             West        Pacific  Sacramento Kings      Kings   \n",
       "0  Sacramento             West        Pacific  Sacramento Kings      Kings   \n",
       "1  Sacramento             West        Pacific  Sacramento Kings      Kings   \n",
       "\n",
       "   game.net_score  \n",
       "0              19  \n",
       "1              19  \n",
       "0              19  \n",
       "1              19  \n",
       "\n",
       "[4 rows x 47 columns]"
      ]
     },
     "execution_count": 74,
     "metadata": {},
     "output_type": "execute_result"
    }
   ],
   "source": [
    "\n",
    "nba[(nba[\"player.id\"] == 49) | (nba[\"player.id\"] == 415)]"
   ]
  },
  {
   "cell_type": "code",
   "execution_count": 85,
   "metadata": {},
   "outputs": [],
   "source": [
    "#players 3 and 409\n",
    "player_stats = nba[(nba[\"player.id\"] == 3) | (nba[\"player.id\"] == 409)].groupby(\"player.id\").mean()[[\"fg_pct\", \"fg3_pct\", \"blk\", \"stl\"]]"
   ]
  },
  {
   "cell_type": "code",
   "execution_count": 87,
   "metadata": {},
   "outputs": [],
   "source": [
    "import matplotlib.pyplot as plt"
   ]
  },
  {
   "cell_type": "code",
   "execution_count": 89,
   "metadata": {},
   "outputs": [
    {
     "data": {
      "text/plain": [
       "<matplotlib.axes._subplots.AxesSubplot at 0x11da74150>"
      ]
     },
     "execution_count": 89,
     "metadata": {},
     "output_type": "execute_result"
    },
    {
     "data": {
      "image/png": "[encoded data removed]",
      "text/plain": [
       "<Figure size 432x288 with 1 Axes>"
      ]
     },
     "metadata": {
      "needs_background": "light"
     },
     "output_type": "display_data"
    }
   ],
   "source": [
    "#Compare your two favorite players:\n",
    "#show their field goal percent, three point field goal percent, blocks and steals\n",
    "#Use a suitable visualization to compare these stats\n",
    "player_stats.transpose().plot(kind=\"bar\")"
   ]
  },
  {
   "cell_type": "code",
   "execution_count": 94,
   "metadata": {},
   "outputs": [
    {
     "data": {
      "text/plain": [
       "player.id\n",
       "3      7.0\n",
       "409    6.0\n",
       "Name: player.height_feet, dtype: float64"
      ]
     },
     "execution_count": 94,
     "metadata": {},
     "output_type": "execute_result"
    }
   ],
   "source": [
    "#Who is the taller player? Does the taller play have more blocks?\n",
    "nba[(nba[\"player.id\"] == 3) | (nba[\"player.id\"] == 409)].groupby(\"player.id\").mean()[\"player.height_feet\"]\n",
    "#the taller player has more blocks"
   ]
  },
  {
   "cell_type": "code",
   "execution_count": null,
   "metadata": {},
   "outputs": [],
   "source": []
  }
 ],
 "metadata": {
  "kernelspec": {
   "display_name": "Python 3",
   "language": "python",
   "name": "python3"
  },
  "language_info": {
   "codemirror_mode": {
    "name": "ipython",
    "version": 3
   },
   "file_extension": ".py",
   "mimetype": "text/x-python",
   "name": "python",
   "nbconvert_exporter": "python",
   "pygments_lexer": "ipython3",
   "version": "3.7.6"
  }
 },
 "nbformat": 4,
 "nbformat_minor": 4
}
