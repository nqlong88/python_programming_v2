{
 "cells": [
  {
   "cell_type": "code",
   "execution_count": 1,
   "metadata": {},
   "outputs": [],
   "source": [
    "import pandas as pd\n",
    "import json"
   ]
  },
  {
   "cell_type": "code",
   "execution_count": 2,
   "metadata": {},
   "outputs": [],
   "source": [
    "import requests\n",
    "\n",
    "url = \"https://free-nba.p.rapidapi.com/stats\"\n",
    "\n",
    "querystring = {\"page\":\"0\",\"per_page\":\"100\"}\n",
    "\n",
    "headers = {\n",
    "    'x-rapidapi-host': \"free-nba.p.rapidapi.com\",\n",
    "    'x-rapidapi-key': \"6fc77a6cb6msh40e2c7290548822p17d892jsn4c089450c258\"\n",
    "    }\n",
    "\n",
    "response = requests.request(\"GET\", url, headers=headers, params=querystring)\n",
    "\n",
    "#print(response.text)"
   ]
  },
  {
   "cell_type": "code",
   "execution_count": 3,
   "metadata": {},
   "outputs": [],
   "source": [
    "# Use pandas built in:  pd.json_normalize(jsonfile.json()['key'])\n",
    "# this creates a table from a dictionary\n",
    "data =pd.json_normalize(response.json()['data'])"
   ]
  },
  {
   "cell_type": "code",
   "execution_count": 4,
   "metadata": {},
   "outputs": [
    {
     "data": {
      "text/html": [
       "<div>\n",
       "<style scoped>\n",
       "    .dataframe tbody tr th:only-of-type {\n",
       "        vertical-align: middle;\n",
       "    }\n",
       "\n",
       "    .dataframe tbody tr th {\n",
       "        vertical-align: top;\n",
       "    }\n",
       "\n",
       "    .dataframe thead th {\n",
       "        text-align: right;\n",
       "    }\n",
       "</style>\n",
       "<table border=\"1\" class=\"dataframe\">\n",
       "  <thead>\n",
       "    <tr style=\"text-align: right;\">\n",
       "      <th></th>\n",
       "      <th>id</th>\n",
       "      <th>ast</th>\n",
       "      <th>blk</th>\n",
       "      <th>dreb</th>\n",
       "      <th>fg3_pct</th>\n",
       "      <th>fg3a</th>\n",
       "      <th>fg3m</th>\n",
       "      <th>fg_pct</th>\n",
       "      <th>fga</th>\n",
       "      <th>fgm</th>\n",
       "      <th>...</th>\n",
       "      <th>player.position</th>\n",
       "      <th>player.team_id</th>\n",
       "      <th>player.weight_pounds</th>\n",
       "      <th>team.id</th>\n",
       "      <th>team.abbreviation</th>\n",
       "      <th>team.city</th>\n",
       "      <th>team.conference</th>\n",
       "      <th>team.division</th>\n",
       "      <th>team.full_name</th>\n",
       "      <th>team.name</th>\n",
       "    </tr>\n",
       "  </thead>\n",
       "  <tbody>\n",
       "    <tr>\n",
       "      <th>0</th>\n",
       "      <td>1069008</td>\n",
       "      <td>0.0</td>\n",
       "      <td>1.0</td>\n",
       "      <td>2.0</td>\n",
       "      <td>0.200</td>\n",
       "      <td>5.0</td>\n",
       "      <td>1.0</td>\n",
       "      <td>0.333</td>\n",
       "      <td>9.0</td>\n",
       "      <td>3.0</td>\n",
       "      <td>...</td>\n",
       "      <td>G</td>\n",
       "      <td>3</td>\n",
       "      <td>215.0</td>\n",
       "      <td>26</td>\n",
       "      <td>SAC</td>\n",
       "      <td>Sacramento</td>\n",
       "      <td>West</td>\n",
       "      <td>Pacific</td>\n",
       "      <td>Sacramento Kings</td>\n",
       "      <td>Kings</td>\n",
       "    </tr>\n",
       "    <tr>\n",
       "      <th>1</th>\n",
       "      <td>1069009</td>\n",
       "      <td>4.0</td>\n",
       "      <td>0.0</td>\n",
       "      <td>5.0</td>\n",
       "      <td>0.000</td>\n",
       "      <td>2.0</td>\n",
       "      <td>0.0</td>\n",
       "      <td>0.200</td>\n",
       "      <td>5.0</td>\n",
       "      <td>1.0</td>\n",
       "      <td>...</td>\n",
       "      <td>F</td>\n",
       "      <td>26</td>\n",
       "      <td>234.0</td>\n",
       "      <td>26</td>\n",
       "      <td>SAC</td>\n",
       "      <td>Sacramento</td>\n",
       "      <td>West</td>\n",
       "      <td>Pacific</td>\n",
       "      <td>Sacramento Kings</td>\n",
       "      <td>Kings</td>\n",
       "    </tr>\n",
       "    <tr>\n",
       "      <th>2</th>\n",
       "      <td>1069010</td>\n",
       "      <td>4.0</td>\n",
       "      <td>1.0</td>\n",
       "      <td>5.0</td>\n",
       "      <td>0.000</td>\n",
       "      <td>0.0</td>\n",
       "      <td>0.0</td>\n",
       "      <td>0.667</td>\n",
       "      <td>6.0</td>\n",
       "      <td>4.0</td>\n",
       "      <td>...</td>\n",
       "      <td>C</td>\n",
       "      <td>7</td>\n",
       "      <td>240.0</td>\n",
       "      <td>26</td>\n",
       "      <td>SAC</td>\n",
       "      <td>Sacramento</td>\n",
       "      <td>West</td>\n",
       "      <td>Pacific</td>\n",
       "      <td>Sacramento Kings</td>\n",
       "      <td>Kings</td>\n",
       "    </tr>\n",
       "    <tr>\n",
       "      <th>3</th>\n",
       "      <td>1069011</td>\n",
       "      <td>1.0</td>\n",
       "      <td>0.0</td>\n",
       "      <td>1.0</td>\n",
       "      <td>0.545</td>\n",
       "      <td>11.0</td>\n",
       "      <td>6.0</td>\n",
       "      <td>0.500</td>\n",
       "      <td>18.0</td>\n",
       "      <td>9.0</td>\n",
       "      <td>...</td>\n",
       "      <td>G</td>\n",
       "      <td>26</td>\n",
       "      <td>214.0</td>\n",
       "      <td>26</td>\n",
       "      <td>SAC</td>\n",
       "      <td>Sacramento</td>\n",
       "      <td>West</td>\n",
       "      <td>Pacific</td>\n",
       "      <td>Sacramento Kings</td>\n",
       "      <td>Kings</td>\n",
       "    </tr>\n",
       "    <tr>\n",
       "      <th>4</th>\n",
       "      <td>1069012</td>\n",
       "      <td>8.0</td>\n",
       "      <td>1.0</td>\n",
       "      <td>5.0</td>\n",
       "      <td>0.000</td>\n",
       "      <td>2.0</td>\n",
       "      <td>0.0</td>\n",
       "      <td>0.400</td>\n",
       "      <td>10.0</td>\n",
       "      <td>4.0</td>\n",
       "      <td>...</td>\n",
       "      <td>G</td>\n",
       "      <td>26</td>\n",
       "      <td>175.0</td>\n",
       "      <td>26</td>\n",
       "      <td>SAC</td>\n",
       "      <td>Sacramento</td>\n",
       "      <td>West</td>\n",
       "      <td>Pacific</td>\n",
       "      <td>Sacramento Kings</td>\n",
       "      <td>Kings</td>\n",
       "    </tr>\n",
       "  </tbody>\n",
       "</table>\n",
       "<p>5 rows × 46 columns</p>\n",
       "</div>"
      ],
      "text/plain": [
       "        id  ast  blk  dreb  fg3_pct  fg3a  fg3m  fg_pct   fga  fgm  ...  \\\n",
       "0  1069008  0.0  1.0   2.0    0.200   5.0   1.0   0.333   9.0  3.0  ...   \n",
       "1  1069009  4.0  0.0   5.0    0.000   2.0   0.0   0.200   5.0  1.0  ...   \n",
       "2  1069010  4.0  1.0   5.0    0.000   0.0   0.0   0.667   6.0  4.0  ...   \n",
       "3  1069011  1.0  0.0   1.0    0.545  11.0   6.0   0.500  18.0  9.0  ...   \n",
       "4  1069012  8.0  1.0   5.0    0.000   2.0   0.0   0.400  10.0  4.0  ...   \n",
       "\n",
       "   player.position  player.team_id  player.weight_pounds team.id  \\\n",
       "0                G               3                 215.0      26   \n",
       "1                F              26                 234.0      26   \n",
       "2                C               7                 240.0      26   \n",
       "3                G              26                 214.0      26   \n",
       "4                G              26                 175.0      26   \n",
       "\n",
       "   team.abbreviation   team.city  team.conference  team.division  \\\n",
       "0                SAC  Sacramento             West        Pacific   \n",
       "1                SAC  Sacramento             West        Pacific   \n",
       "2                SAC  Sacramento             West        Pacific   \n",
       "3                SAC  Sacramento             West        Pacific   \n",
       "4                SAC  Sacramento             West        Pacific   \n",
       "\n",
       "     team.full_name  team.name  \n",
       "0  Sacramento Kings      Kings  \n",
       "1  Sacramento Kings      Kings  \n",
       "2  Sacramento Kings      Kings  \n",
       "3  Sacramento Kings      Kings  \n",
       "4  Sacramento Kings      Kings  \n",
       "\n",
       "[5 rows x 46 columns]"
      ]
     },
     "execution_count": 4,
     "metadata": {},
     "output_type": "execute_result"
    }
   ],
   "source": [
    "data.head()"
   ]
  },
  {
   "cell_type": "code",
   "execution_count": 7,
   "metadata": {},
   "outputs": [],
   "source": [
    "#loop through the rest of pages: to get data up to 500 rows\n",
    "for index in range(1,5):\n",
    "    querystring = {\"page\":str(index),\"per_page\":\"100\"} #need to convert index to string\n",
    "    response = requests.request(\"GET\", url, headers=headers, params=querystring)\n",
    "    data_2 = pd.json_normalize(response.json()['data'])\n",
    "    data = pd.concat([data,data_2]) #Join tables using concat_"
   ]
  },
  {
   "cell_type": "code",
   "execution_count": 6,
   "metadata": {},
   "outputs": [
    {
     "data": {
      "text/plain": [
       "(500, 46)"
      ]
     },
     "execution_count": 6,
     "metadata": {},
     "output_type": "execute_result"
    }
   ],
   "source": [
    "data.shape"
   ]
  },
  {
   "cell_type": "code",
   "execution_count": 16,
   "metadata": {},
   "outputs": [
    {
     "data": {
      "text/plain": [
       "Index(['id', 'ast', 'blk', 'dreb', 'fg3_pct', 'fg3a', 'fg3m', 'fg_pct', 'fga',\n",
       "       'fgm', 'ft_pct', 'fta', 'ftm', 'min', 'oreb', 'pf', 'pts', 'reb', 'stl',\n",
       "       'turnover', 'game.id', 'game.date', 'game.home_team_id',\n",
       "       'game.home_team_score', 'game.period', 'game.postseason', 'game.season',\n",
       "       'game.status', 'game.time', 'game.visitor_team_id',\n",
       "       'game.visitor_team_score', 'player.id', 'player.first_name',\n",
       "       'player.height_feet', 'player.height_inches', 'player.last_name',\n",
       "       'player.position', 'player.team_id', 'player.weight_pounds', 'team.id',\n",
       "       'team.abbreviation', 'team.city', 'team.conference', 'team.division',\n",
       "       'team.full_name', 'team.name'],\n",
       "      dtype='object')"
      ]
     },
     "execution_count": 16,
     "metadata": {},
     "output_type": "execute_result"
    }
   ],
   "source": [
    "data.columns"
   ]
  },
  {
   "cell_type": "code",
   "execution_count": 20,
   "metadata": {},
   "outputs": [
    {
     "data": {
      "text/plain": [
       "22"
      ]
     },
     "execution_count": 20,
     "metadata": {},
     "output_type": "execute_result"
    }
   ],
   "source": [
    "#How many games does your data set actually represent?\n",
    "data['game.id'].nunique()"
   ]
  },
  {
   "cell_type": "code",
   "execution_count": 9,
   "metadata": {},
   "outputs": [],
   "source": [
    "#Who are the top five guards by field goal percent?\n",
    "guard = data.groupby['guard']"
   ]
  },
  {
   "cell_type": "code",
   "execution_count": 11,
   "metadata": {},
   "outputs": [],
   "source": [
    "#Which team won most home games?\n"
   ]
  },
  {
   "cell_type": "code",
   "execution_count": 12,
   "metadata": {},
   "outputs": [],
   "source": [
    "#Which team won most away games?\n"
   ]
  },
  {
   "cell_type": "code",
   "execution_count": 13,
   "metadata": {},
   "outputs": [],
   "source": [
    "#Compare your two favorite players:\n"
   ]
  },
  {
   "cell_type": "code",
   "execution_count": 15,
   "metadata": {},
   "outputs": [],
   "source": [
    "#show their field goal percent, three point field goal percent, blocks and steals\n"
   ]
  },
  {
   "cell_type": "code",
   "execution_count": null,
   "metadata": {},
   "outputs": [],
   "source": [
    "#Use a suitable visualization to compare these stats\n",
    "#Who is the taller player? Does the taller play have more blocks?\n"
   ]
  }
 ],
 "metadata": {
  "kernelspec": {
   "display_name": "Python 3",
   "language": "python",
   "name": "python3"
  },
  "language_info": {
   "codemirror_mode": {
    "name": "ipython",
    "version": 3
   },
   "file_extension": ".py",
   "mimetype": "text/x-python",
   "name": "python",
   "nbconvert_exporter": "python",
   "pygments_lexer": "ipython3",
   "version": "3.7.6"
  }
 },
 "nbformat": 4,
 "nbformat_minor": 4
}
